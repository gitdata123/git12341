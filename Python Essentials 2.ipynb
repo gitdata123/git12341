{
 "cells": [
  {
   "cell_type": "markdown",
   "id": "bce3cc62",
   "metadata": {
    "id": "bce3cc62"
   },
   "source": [
    "# Python Operators"
   ]
  },
  {
   "cell_type": "raw",
   "id": "e5156954",
   "metadata": {
    "id": "e5156954"
   },
   "source": [
    "Operators are special symbols in Python which are used to perform operations on variables/values."
   ]
  },
  {
   "cell_type": "markdown",
   "id": "73bec088",
   "metadata": {
    "id": "73bec088"
   },
   "source": [
    "## Arithmetic Operators"
   ]
  },
  {
   "cell_type": "code",
   "execution_count": null,
   "id": "b33a0fc9",
   "metadata": {
    "id": "b33a0fc9"
   },
   "outputs": [],
   "source": [
    "a=5\n",
    "b=2\n",
    "x='Data'\n",
    "y ='Science'"
   ]
  },
  {
   "cell_type": "code",
   "execution_count": null,
   "id": "9ceb2df2",
   "metadata": {
    "id": "9ceb2df2",
    "outputId": "55320aaa-6737-48c7-b4a9-6b55ac19d491"
   },
   "outputs": [],
   "source": [
    "#  Addition\n",
    "c = a + b\n",
    "print(c)"
   ]
  },
  {
   "cell_type": "code",
   "execution_count": null,
   "id": "c933a260",
   "metadata": {
    "id": "c933a260",
    "outputId": "b4c8f35d-ea2b-488f-fc83-93bb1114a15d"
   },
   "outputs": [],
   "source": [
    "#Concatenate string using plus operator\n",
    "z = x + y\n",
    "print(z)"
   ]
  },
  {
   "cell_type": "code",
   "execution_count": null,
   "id": "2cfae568",
   "metadata": {
    "id": "2cfae568",
    "outputId": "996eafaf-32ef-4179-c522-575e8ad08b0e"
   },
   "outputs": [],
   "source": [
    "# Subtraction\n",
    "c = b - a\n",
    "print(c)"
   ]
  },
  {
   "cell_type": "code",
   "execution_count": null,
   "id": "bf7cbce9",
   "metadata": {
    "id": "bf7cbce9",
    "outputId": "486a60a2-57f5-4034-ca2b-0913ebc8008b"
   },
   "outputs": [],
   "source": [
    "# Multiplication\n",
    "c = a * b\n",
    "print(c)"
   ]
  },
  {
   "cell_type": "code",
   "execution_count": null,
   "id": "5aadbe02",
   "metadata": {
    "id": "5aadbe02",
    "outputId": "e9afff68-33dc-46e0-952b-962e6f994adc"
   },
   "outputs": [],
   "source": [
    "# Power\n",
    "c = a ** b\n",
    "print(c)\n",
    "print(pow(5,4))"
   ]
  },
  {
   "cell_type": "code",
   "execution_count": null,
   "id": "9a7d0a59",
   "metadata": {
    "colab": {
     "base_uri": "https://localhost:8080/"
    },
    "executionInfo": {
     "elapsed": 543,
     "status": "ok",
     "timestamp": 1652432666219,
     "user": {
      "displayName": "Rohan Ravindra Sohani",
      "userId": "06993368347103045844"
     },
     "user_tz": -330
    },
    "id": "9a7d0a59",
    "outputId": "8301eac2-6f2a-414c-966b-863c55b6f3f5"
   },
   "outputs": [],
   "source": [
    "# Division\n",
    "c = a / b\n",
    "print(c)"
   ]
  },
  {
   "cell_type": "code",
   "execution_count": null,
   "id": "27ef4d32",
   "metadata": {
    "colab": {
     "base_uri": "https://localhost:8080/"
    },
    "executionInfo": {
     "elapsed": 1385,
     "status": "ok",
     "timestamp": 1652432744233,
     "user": {
      "displayName": "Rohan Ravindra Sohani",
      "userId": "06993368347103045844"
     },
     "user_tz": -330
    },
    "id": "27ef4d32",
    "outputId": "9e1810d6-5eed-4617-a728-197ed44b61aa"
   },
   "outputs": [],
   "source": [
    "# Modulo of both number\n",
    "c = a % b\n",
    "print(c)"
   ]
  },
  {
   "cell_type": "code",
   "execution_count": null,
   "id": "de6eb709",
   "metadata": {
    "colab": {
     "base_uri": "https://localhost:8080/"
    },
    "executionInfo": {
     "elapsed": 915,
     "status": "ok",
     "timestamp": 1652432657323,
     "user": {
      "displayName": "Rohan Ravindra Sohani",
      "userId": "06993368347103045844"
     },
     "user_tz": -330
    },
    "id": "de6eb709",
    "outputId": "a8e1c236-ad56-41e2-bd75-d1759300b712"
   },
   "outputs": [],
   "source": [
    "# Division(floor)\n",
    "c = a // b\n",
    "print(c)"
   ]
  },
  {
   "cell_type": "code",
   "execution_count": null,
   "id": "2ad0ac2d",
   "metadata": {},
   "outputs": [],
   "source": [
    "x = round(4.2667)\n",
    "print(x)"
   ]
  },
  {
   "cell_type": "markdown",
   "id": "930e346a",
   "metadata": {
    "id": "930e346a"
   },
   "source": [
    "## Comparison Operators"
   ]
  },
  {
   "cell_type": "code",
   "execution_count": null,
   "id": "5af6d024",
   "metadata": {
    "id": "5af6d024"
   },
   "outputs": [],
   "source": [
    "x  = 20\n",
    "y  = 30\n",
    "\n",
    "print('Is  x  greater  than  y  :-  ',x>y)\n",
    "print('Is  x  less  than    y  :-  ',x<y)\n",
    "print('Is  x  equal  to    y  :-  ',x==y)\n",
    "print('Is  x  not  equal  to  y  :-  ',x!=y)\n",
    "print('Is  x  greater  than  or  equal  to  y  :-  ',x>=y)\n",
    "print('Is  x  less  than  or  equal  to  y  :-  ',x<=y)\n"
   ]
  },
  {
   "cell_type": "code",
   "execution_count": null,
   "id": "06fb44bc",
   "metadata": {
    "id": "06fb44bc"
   },
   "outputs": [],
   "source": [
    "a = 'Data'\n",
    "b = 'Science'\n",
    "c = 'Data'"
   ]
  },
  {
   "cell_type": "code",
   "execution_count": null,
   "id": "46e4a352",
   "metadata": {
    "id": "46e4a352"
   },
   "outputs": [],
   "source": [
    "a == b"
   ]
  },
  {
   "cell_type": "code",
   "execution_count": null,
   "id": "6c9b41bc",
   "metadata": {
    "id": "6c9b41bc"
   },
   "outputs": [],
   "source": [
    "a ==c"
   ]
  },
  {
   "cell_type": "code",
   "execution_count": null,
   "id": "747431a4",
   "metadata": {
    "id": "747431a4"
   },
   "outputs": [],
   "source": [
    "a != b # Comparison operators on string"
   ]
  },
  {
   "cell_type": "markdown",
   "id": "67b7ac81",
   "metadata": {
    "id": "67b7ac81"
   },
   "source": [
    "## Logical Operators"
   ]
  },
  {
   "cell_type": "code",
   "execution_count": null,
   "id": "5309b2e8",
   "metadata": {},
   "outputs": [],
   "source": [
    "# And operator\n",
    "print(True and True)\n",
    "print(True and False)\n",
    "print(False and True)\n",
    "print(False and False)"
   ]
  },
  {
   "cell_type": "code",
   "execution_count": null,
   "id": "d867bfb9",
   "metadata": {},
   "outputs": [],
   "source": [
    "#Or operator\n",
    "print(True or True)\n",
    "print(True or False)\n",
    "print(False or True)\n",
    "print(False or False)"
   ]
  },
  {
   "cell_type": "code",
   "execution_count": null,
   "id": "512dc405",
   "metadata": {},
   "outputs": [],
   "source": [
    "# Not operator\n",
    "print(not True)\n",
    "print(not False)"
   ]
  },
  {
   "cell_type": "code",
   "execution_count": null,
   "id": "61901b93",
   "metadata": {
    "id": "61901b93"
   },
   "outputs": [],
   "source": [
    "x = True\n",
    "y = False\n",
    "\n",
    "print('Logical  AND  operation  :-  ',x  and  y)  \n",
    "#  True  if  both  values  are  true \n",
    "print('Logical  OR  operation  :-  ',x  or  y)  \n",
    "#  True  if  either  of  the  values  is  true \n",
    "print('NOT  operation  :-  ',not  y  )  \n",
    "# If the operand is False,'not' returns True, and vice versa.\n"
   ]
  },
  {
   "cell_type": "code",
   "execution_count": null,
   "id": "ccec27ef",
   "metadata": {
    "scrolled": false
   },
   "outputs": [],
   "source": [
    "#Solve the expression. \n",
    "5.2 + True + bool(-5) - 4 + 42//5 +bool(0) + False + int(5.9) + float('1')\n"
   ]
  },
  {
   "cell_type": "markdown",
   "id": "00fba424",
   "metadata": {
    "id": "00fba424"
   },
   "source": [
    "# If  conditional statement"
   ]
  },
  {
   "cell_type": "markdown",
   "id": "7e4d095e",
   "metadata": {
    "id": "7e4d095e"
   },
   "source": [
    "* A Python if statement evaluates whether a condition is equal to true or false.\n",
    "* The statement will execute a block of code if a specified condition is equal to true. Otherwise, the block of code within the if statement is not executed"
   ]
  },
  {
   "cell_type": "markdown",
   "id": "1097b482",
   "metadata": {
    "id": "0c2d2910"
   },
   "source": [
    "* Indentation refers to the spaces at the beginning of a\n",
    "code line. It is very important as Python uses indentation\n",
    "to indicate a block of code."
   ]
  },
  {
   "cell_type": "code",
   "execution_count": null,
   "id": "4978544b",
   "metadata": {
    "id": "4978544b"
   },
   "outputs": [],
   "source": [
    "a=3\n",
    "if a<6:\n",
    "    print('We started to work on conditional statements')\n",
    "    \n",
    "print('Hello everyone')"
   ]
  },
  {
   "cell_type": "code",
   "execution_count": null,
   "id": "52c8fd89",
   "metadata": {
    "id": "52c8fd89"
   },
   "outputs": [],
   "source": [
    "a=7\n",
    "if a==3:\n",
    "    print('Condition is true')\n",
    "#print(\"Hello\")"
   ]
  },
  {
   "cell_type": "code",
   "execution_count": null,
   "id": "f6be2755",
   "metadata": {
    "colab": {
     "base_uri": "https://localhost:8080/"
    },
    "executionInfo": {
     "elapsed": 3,
     "status": "ok",
     "timestamp": 1682473107762,
     "user": {
      "displayName": "Jitendra Rathod",
      "userId": "08588782662248261812"
     },
     "user_tz": -330
    },
    "id": "f6be2755",
    "outputId": "8f45be2f-f7c4-4741-f0cb-91d43c2a4eaf"
   },
   "outputs": [],
   "source": [
    "x=4\n",
    "if x==5: # If condition is True\n",
    "    print('The if condition is true')\n",
    "else:\n",
    "    print('Else condition got executed')\n"
   ]
  },
  {
   "cell_type": "code",
   "execution_count": null,
   "id": "63acf878",
   "metadata": {
    "colab": {
     "base_uri": "https://localhost:8080/"
    },
    "executionInfo": {
     "elapsed": 393,
     "status": "ok",
     "timestamp": 1682473313833,
     "user": {
      "displayName": "Jitendra Rathod",
      "userId": "08588782662248261812"
     },
     "user_tz": -330
    },
    "id": "63acf878",
    "outputId": "44096e20-1863-4894-9409-3723abf5777a"
   },
   "outputs": [],
   "source": [
    "x=-23\n",
    "if x>0:\n",
    "    print('i am in if block')\n",
    "else:\n",
    "    print('i am not in if block')"
   ]
  },
  {
   "cell_type": "code",
   "execution_count": null,
   "id": "2fb0f1f1",
   "metadata": {
    "colab": {
     "base_uri": "https://localhost:8080/"
    },
    "executionInfo": {
     "elapsed": 380,
     "status": "ok",
     "timestamp": 1682473524921,
     "user": {
      "displayName": "Jitendra Rathod",
      "userId": "08588782662248261812"
     },
     "user_tz": -330
    },
    "id": "2fb0f1f1",
    "outputId": "79cff862-dd55-4eba-aa91-62338e16da60"
   },
   "outputs": [],
   "source": [
    "if(5>4):\n",
    "    print('5 is big')\n",
    "print('i am in if block')\n",
    "print('i am out of if block')"
   ]
  },
  {
   "cell_type": "code",
   "execution_count": null,
   "id": "b36032f3",
   "metadata": {
    "colab": {
     "base_uri": "https://localhost:8080/"
    },
    "executionInfo": {
     "elapsed": 437,
     "status": "ok",
     "timestamp": 1682473692857,
     "user": {
      "displayName": "Jitendra Rathod",
      "userId": "08588782662248261812"
     },
     "user_tz": -330
    },
    "id": "b36032f3",
    "outputId": "d0f4820a-edad-432d-f752-85bb99cc0244"
   },
   "outputs": [],
   "source": [
    "# if ... else\n",
    "\n",
    "x = 0\n",
    "\n",
    "if x>0:\n",
    "    print(\"X is positive\")\n",
    "    print(\"i am in IF block\")\n",
    "else:\n",
    "    print(\"X is Negative\")\n",
    "    print('i am in else block')\n",
    "\n",
    "print(\"i am  out of IF block\")"
   ]
  },
  {
   "cell_type": "markdown",
   "id": "f3e4de54",
   "metadata": {
    "id": "f3e4de54"
   },
   "source": [
    "# Input function"
   ]
  },
  {
   "cell_type": "code",
   "execution_count": null,
   "id": "d2908c22",
   "metadata": {
    "colab": {
     "base_uri": "https://localhost:8080/"
    },
    "executionInfo": {
     "elapsed": 26843,
     "status": "ok",
     "timestamp": 1682477037797,
     "user": {
      "displayName": "Jitendra Rathod",
      "userId": "08588782662248261812"
     },
     "user_tz": -330
    },
    "id": "d2908c22",
    "outputId": "f4658a76-40a3-461a-f484-b79d441984c8"
   },
   "outputs": [],
   "source": [
    "a=input('Enter your age:')"
   ]
  },
  {
   "cell_type": "code",
   "execution_count": null,
   "id": "9643f3b8",
   "metadata": {
    "id": "9643f3b8"
   },
   "outputs": [],
   "source": [
    "a # input takes values as string by default"
   ]
  },
  {
   "cell_type": "code",
   "execution_count": null,
   "id": "78cbfa2d",
   "metadata": {},
   "outputs": [],
   "source": [
    "type(a)"
   ]
  },
  {
   "cell_type": "code",
   "execution_count": null,
   "id": "19254745",
   "metadata": {
    "colab": {
     "base_uri": "https://localhost:8080/"
    },
    "executionInfo": {
     "elapsed": 21026,
     "status": "ok",
     "timestamp": 1682477160573,
     "user": {
      "displayName": "Jitendra Rathod",
      "userId": "08588782662248261812"
     },
     "user_tz": -330
    },
    "id": "19254745",
    "outputId": "1f73c0c8-d94e-4603-b333-672ec92a8279"
   },
   "outputs": [],
   "source": [
    "c=int(input('Enter your age:'))\n"
   ]
  },
  {
   "cell_type": "code",
   "execution_count": null,
   "id": "da54e22c",
   "metadata": {},
   "outputs": [],
   "source": [
    "c"
   ]
  },
  {
   "cell_type": "code",
   "execution_count": null,
   "id": "c04c4ca7",
   "metadata": {},
   "outputs": [],
   "source": [
    "type(c)"
   ]
  },
  {
   "cell_type": "code",
   "execution_count": null,
   "id": "6d50e5ef",
   "metadata": {
    "id": "6d50e5ef"
   },
   "outputs": [],
   "source": [
    "x=int(input(\"Enter a number: \"))\n",
    "if(x>10):\n",
    "    print('i am in if block')\n",
    "elif (x==6):\n",
    "# elif will help in checking more than 1 if condition\n",
    "    print('i am in elif block')\n",
    "elif(x==0):\n",
    "    print('Zero number')\n",
    "else:\n",
    "    print('i am in else block')"
   ]
  },
  {
   "cell_type": "code",
   "execution_count": null,
   "id": "CBHrrFfTxowT",
   "metadata": {
    "colab": {
     "base_uri": "https://localhost:8080/"
    },
    "executionInfo": {
     "elapsed": 22375,
     "status": "ok",
     "timestamp": 1697951384680,
     "user": {
      "displayName": "Rama Chandra Kotturu",
      "userId": "02243285469857073193"
     },
     "user_tz": -330
    },
    "id": "CBHrrFfTxowT",
    "outputId": "a22179de-5ebc-4947-9214-8fb74cc86d39"
   },
   "outputs": [],
   "source": [
    "num=int(input(\"Enter a number: \"))\n",
    "if num>0:\n",
    "    print(\"positive\")\n",
    "elif num==0:\n",
    "    print(\"Zero\")\n",
    "elif num<0:\n",
    "    print(\"Negative\")"
   ]
  },
  {
   "cell_type": "code",
   "execution_count": null,
   "id": "H4wddVbGTBJd",
   "metadata": {
    "colab": {
     "base_uri": "https://localhost:8080/"
    },
    "executionInfo": {
     "elapsed": 421,
     "status": "ok",
     "timestamp": 1682474711602,
     "user": {
      "displayName": "Jitendra Rathod",
      "userId": "08588782662248261812"
     },
     "user_tz": -330
    },
    "id": "H4wddVbGTBJd",
    "outputId": "2ea9692b-eb3d-4817-b04e-1affcf4ed15e"
   },
   "outputs": [],
   "source": [
    "print(num)\n",
    "print(type(num))"
   ]
  },
  {
   "cell_type": "code",
   "execution_count": null,
   "id": "8ef1d76f",
   "metadata": {
    "colab": {
     "base_uri": "https://localhost:8080/"
    },
    "executionInfo": {
     "elapsed": 21936,
     "status": "ok",
     "timestamp": 1682475283418,
     "user": {
      "displayName": "Jitendra Rathod",
      "userId": "08588782662248261812"
     },
     "user_tz": -330
    },
    "id": "8ef1d76f",
    "outputId": "f8f0fb9d-981a-40da-a50e-573b0dbc05db"
   },
   "outputs": [],
   "source": [
    "# if... elif ... else\n",
    "x =int(input('enter the number'))\n",
    "\n",
    "if x>0:\n",
    "    print(\"X is positive\")\n",
    "elif x<0:\n",
    "    print(\"X is Negative\")\n",
    "    print('i am in elif block')\n",
    "else:\n",
    "    print(\"X is Zero\")\n",
    "    print('i am in else block')\n",
    "\n",
    "print('outside of the loop')"
   ]
  },
  {
   "cell_type": "code",
   "execution_count": null,
   "id": "ae45a89c",
   "metadata": {
    "colab": {
     "base_uri": "https://localhost:8080/"
    },
    "executionInfo": {
     "elapsed": 391,
     "status": "ok",
     "timestamp": 1682476104838,
     "user": {
      "displayName": "Jitendra Rathod",
      "userId": "08588782662248261812"
     },
     "user_tz": -330
    },
    "id": "ae45a89c",
    "outputId": "1b6ae2a1-17a7-4a02-a8ab-51c8be91b5d4"
   },
   "outputs": [],
   "source": [
    "## Nesting of if \n",
    "x=5\n",
    "if(x>=3):\n",
    "    print('i am in 1st if')\n",
    "    if(x>2):\n",
    "        print('i am in 2nd if')\n",
    "        if(x==2):\n",
    "            print('i am in 3rd if ')\n",
    "            if x==5:\n",
    "                print(x)"
   ]
  },
  {
   "cell_type": "code",
   "execution_count": null,
   "id": "41a683cf",
   "metadata": {},
   "outputs": [],
   "source": [
    "num = int(input('Enter the number: '))\n",
    "if num %2==0:\n",
    "    print('Even number ')\n",
    "else:\n",
    "    print('odd number')"
   ]
  },
  {
   "cell_type": "code",
   "execution_count": null,
   "id": "9d40ede0",
   "metadata": {
    "colab": {
     "base_uri": "https://localhost:8080/"
    },
    "executionInfo": {
     "elapsed": 463,
     "status": "ok",
     "timestamp": 1697951590679,
     "user": {
      "displayName": "Rama Chandra Kotturu",
      "userId": "02243285469857073193"
     },
     "user_tz": -330
    },
    "id": "9d40ede0",
    "outputId": "4af4ae41-1288-4052-d438-a81078702d72"
   },
   "outputs": [],
   "source": [
    "i=6\n",
    "if(i>0):\n",
    "    print('first loop')\n",
    "    if(i<=5):\n",
    "        print('second loop')\n",
    "        print('number is in primary range')\n",
    "        if(i>5): #False\n",
    "            print('mid range')\n",
    "        else:\n",
    "            print('end of the loop')\n",
    "else:\n",
    "    print('number is negative')\n",
    "\n",
    "print('out of the nested loop')"
   ]
  },
  {
   "cell_type": "code",
   "execution_count": null,
   "id": "LRwNCss-z9kB",
   "metadata": {
    "colab": {
     "base_uri": "https://localhost:8080/"
    },
    "executionInfo": {
     "elapsed": 5684,
     "status": "ok",
     "timestamp": 1697951818032,
     "user": {
      "displayName": "Rama Chandra Kotturu",
      "userId": "02243285469857073193"
     },
     "user_tz": -330
    },
    "id": "LRwNCss-z9kB",
    "outputId": "a56d3dac-71be-4ae9-c55a-8d63e21b9afa"
   },
   "outputs": [],
   "source": [
    "str1=input(\"Enter a string\")\n",
    "if str1==str1.upper():\n",
    "  print(\"CAPITAL LETTERS\")\n",
    "else:\n",
    "  print(\"not capital letters\")"
   ]
  },
  {
   "cell_type": "code",
   "execution_count": null,
   "id": "7e5b3ef8",
   "metadata": {
    "colab": {
     "base_uri": "https://localhost:8080/"
    },
    "executionInfo": {
     "elapsed": 720,
     "status": "ok",
     "timestamp": 1697951986534,
     "user": {
      "displayName": "Rama Chandra Kotturu",
      "userId": "02243285469857073193"
     },
     "user_tz": -330
    },
    "id": "7e5b3ef8",
    "outputId": "860d040b-1e0f-4226-abc7-5bfb2434af3d"
   },
   "outputs": [],
   "source": [
    "i = 10\n",
    "if (i == 10):\n",
    "    #  First if statement\n",
    "    if (i < 15):\n",
    "        print(i,\" is smaller than 15\")\n",
    "\n",
    "    # Nested - if statement\n",
    "    # Will only be executed if statement above\n",
    "    # it is true\n",
    "    if (i < 12):\n",
    "        print(\"i is smaller than 12 too\")\n",
    "    else:\n",
    "        print(\"i is greater than 15\")"
   ]
  },
  {
   "cell_type": "code",
   "execution_count": null,
   "id": "hInqhHXJm40W",
   "metadata": {
    "colab": {
     "base_uri": "https://localhost:8080/"
    },
    "executionInfo": {
     "elapsed": 3324,
     "status": "ok",
     "timestamp": 1697952095118,
     "user": {
      "displayName": "Rama Chandra Kotturu",
      "userId": "02243285469857073193"
     },
     "user_tz": -330
    },
    "id": "hInqhHXJm40W",
    "outputId": "9bf248b8-ea9c-402f-c954-fc96c2379817"
   },
   "outputs": [],
   "source": [
    "x = int(input())\n",
    "if x < 10: # True\n",
    "    print(\"Yes it is correct\")\n",
    "\n",
    "elif x < 2:\n",
    "    print(\"number is very small less than 10\")"
   ]
  },
  {
   "cell_type": "markdown",
   "id": "d80b83eb",
   "metadata": {
    "id": "d80b83eb"
   },
   "source": [
    "# Packages"
   ]
  },
  {
   "cell_type": "raw",
   "id": "c425cde2",
   "metadata": {
    "id": "c425cde2"
   },
   "source": [
    "Packages are software which holds certain functionalities to work on. In Python, we have many builtin packages which we will be using.\n",
    "\n",
    "Packages contains modules and submodules.\n",
    "\n",
    "Each and every module and submodule can be used independently by using certain keywords."
   ]
  },
  {
   "cell_type": "raw",
   "id": "6d7a5b1f",
   "metadata": {
    "id": "6d7a5b1f"
   },
   "source": [
    "So lets assume we require a software with 4 functionalities A, B, C, and D. In order to build the software, you need to break it down into logical smaller parts. So lets say A and C are have similar types of functionality  and B and D takes similar type of functionality - we can group them under same module."
   ]
  },
  {
   "cell_type": "raw",
   "id": "ec1b894e",
   "metadata": {
    "id": "ec1b894e"
   },
   "source": [
    "Modules and submodules provide very efficient way of writing code. If you want to make changes in A, you need not disturb any of the other modules.\n",
    "\n",
    "Modules also provide code reusabilty. If we want to develop new software which uses only A and D, such functionality is allowed by the library."
   ]
  },
  {
   "cell_type": "markdown",
   "id": "54b39d5a",
   "metadata": {
    "id": "54b39d5a"
   },
   "source": [
    "# Datetime package"
   ]
  },
  {
   "cell_type": "raw",
   "id": "ddda0c5e",
   "metadata": {
    "id": "ddda0c5e"
   },
   "source": [
    "In Python, date and time are not a data type of their own, but a module named datetime can be imported to work with the date as well as time. Python Datetime module comes built into Python, so there is no need to install it externally."
   ]
  },
  {
   "cell_type": "raw",
   "id": "f7df10eb",
   "metadata": {
    "id": "f7df10eb"
   },
   "source": [
    "1)date – An idealized naive date, assuming the current Gregorian calendar always was, and always will be, in effect. Its attributes are year, month and day.\n",
    "\n",
    "\n",
    "2)time – An idealized time, independent of any particular day, assuming that every day has exactly 24*60*60 seconds. Its attributes are hour, minute, second, microsecond\n",
    "\n",
    "3)datetime – Its a combination of date and time along with the attributes year, month, day, hour, minute, second, microsecond\n",
    "\n",
    "4)timedelta – A duration expressing the difference between two date, time, or datetime instances to microsecond resolution."
   ]
  },
  {
   "cell_type": "code",
   "execution_count": null,
   "id": "f8794c88",
   "metadata": {
    "id": "f8794c88"
   },
   "outputs": [],
   "source": [
    "from datetime import date"
   ]
  },
  {
   "cell_type": "code",
   "execution_count": null,
   "id": "3df143a1",
   "metadata": {
    "id": "3df143a1"
   },
   "outputs": [],
   "source": [
    "my_date = date(1996, 9, 13) ## Simple date creation"
   ]
  },
  {
   "cell_type": "code",
   "execution_count": null,
   "id": "4e13a47f",
   "metadata": {
    "colab": {
     "base_uri": "https://localhost:8080/"
    },
    "executionInfo": {
     "elapsed": 3,
     "status": "ok",
     "timestamp": 1682268091740,
     "user": {
      "displayName": "Jitendra Rathod",
      "userId": "08588782662248261812"
     },
     "user_tz": -330
    },
    "id": "4e13a47f",
    "outputId": "8a900a84-1fe3-4bf9-eb4b-a7a4630f4876"
   },
   "outputs": [],
   "source": [
    "my_date"
   ]
  },
  {
   "cell_type": "code",
   "execution_count": null,
   "id": "55e602b4",
   "metadata": {
    "colab": {
     "base_uri": "https://localhost:8080/"
    },
    "executionInfo": {
     "elapsed": 899,
     "status": "ok",
     "timestamp": 1682478966991,
     "user": {
      "displayName": "Jitendra Rathod",
      "userId": "08588782662248261812"
     },
     "user_tz": -330
    },
    "id": "55e602b4",
    "outputId": "7008aead-4bf7-40d4-f9c7-2b169019bffa"
   },
   "outputs": [],
   "source": [
    "# Getting today's date\n",
    "today1 = date.today()\n",
    "print(\"Today's date is\", today1)"
   ]
  },
  {
   "cell_type": "code",
   "execution_count": null,
   "id": "009053e1",
   "metadata": {
    "colab": {
     "base_uri": "https://localhost:8080/"
    },
    "executionInfo": {
     "elapsed": 670,
     "status": "ok",
     "timestamp": 1682479032022,
     "user": {
      "displayName": "Jitendra Rathod",
      "userId": "08588782662248261812"
     },
     "user_tz": -330
    },
    "id": "009053e1",
    "outputId": "f514e35b-f5a9-4c44-c5e5-0ee6400077cf"
   },
   "outputs": [],
   "source": [
    "today1.isoweekday()"
   ]
  },
  {
   "cell_type": "code",
   "execution_count": null,
   "id": "a2b120ed",
   "metadata": {},
   "outputs": [],
   "source": [
    "today1.year"
   ]
  },
  {
   "cell_type": "code",
   "execution_count": null,
   "id": "97b46a17",
   "metadata": {},
   "outputs": [],
   "source": [
    "today1.month"
   ]
  },
  {
   "cell_type": "code",
   "execution_count": null,
   "id": "f591dae6",
   "metadata": {
    "colab": {
     "base_uri": "https://localhost:8080/"
    },
    "executionInfo": {
     "elapsed": 382,
     "status": "ok",
     "timestamp": 1682479200526,
     "user": {
      "displayName": "Jitendra Rathod",
      "userId": "08588782662248261812"
     },
     "user_tz": -330
    },
    "id": "f591dae6",
    "outputId": "7d35f6e1-663d-42cd-e51d-d066ce08e913"
   },
   "outputs": [],
   "source": [
    "# Get Today’s Year, Month, and Date\n",
    "\n",
    "print(\"Current year:\", today1.year)\n",
    "print(\"Current month:\", today1.month)\n",
    "print(\"Current day:\", today1.day)"
   ]
  },
  {
   "cell_type": "code",
   "execution_count": null,
   "id": "a3579d96",
   "metadata": {
    "id": "a3579d96"
   },
   "outputs": [],
   "source": [
    "# Get date from datetime sub module\n",
    "from datetime import datetime  as dt"
   ]
  },
  {
   "cell_type": "code",
   "execution_count": null,
   "id": "4a8b9c91",
   "metadata": {
    "id": "4a8b9c91"
   },
   "outputs": [],
   "source": [
    "date1=dt.now()\n",
    "print('Time is :',date1)"
   ]
  },
  {
   "cell_type": "code",
   "execution_count": null,
   "id": "5c414dc0",
   "metadata": {
    "colab": {
     "base_uri": "https://localhost:8080/"
    },
    "executionInfo": {
     "elapsed": 362,
     "status": "ok",
     "timestamp": 1682559335418,
     "user": {
      "displayName": "Jitendra Rathod",
      "userId": "08588782662248261812"
     },
     "user_tz": -330
    },
    "id": "5c414dc0",
    "outputId": "aadfafca-4fc6-4128-c26d-767e27188150"
   },
   "outputs": [],
   "source": [
    "date1"
   ]
  },
  {
   "cell_type": "code",
   "execution_count": null,
   "id": "339fcf95",
   "metadata": {
    "colab": {
     "base_uri": "https://localhost:8080/"
    },
    "executionInfo": {
     "elapsed": 674,
     "status": "ok",
     "timestamp": 1682559354178,
     "user": {
      "displayName": "Jitendra Rathod",
      "userId": "08588782662248261812"
     },
     "user_tz": -330
    },
    "id": "339fcf95",
    "outputId": "9f8ebce7-33eb-4e31-dc07-cfc7b1d8de43"
   },
   "outputs": [],
   "source": [
    "dt.date(date1)"
   ]
  },
  {
   "cell_type": "code",
   "execution_count": null,
   "id": "efc30f69",
   "metadata": {},
   "outputs": [],
   "source": [
    "dt.time(date1)"
   ]
  },
  {
   "cell_type": "code",
   "execution_count": null,
   "id": "a8cd79e2",
   "metadata": {
    "colab": {
     "base_uri": "https://localhost:8080/"
    },
    "executionInfo": {
     "elapsed": 448,
     "status": "ok",
     "timestamp": 1682559382643,
     "user": {
      "displayName": "Jitendra Rathod",
      "userId": "08588782662248261812"
     },
     "user_tz": -330
    },
    "id": "a8cd79e2",
    "outputId": "564eb322-6ed6-49bf-ad1a-b2b2da893c55"
   },
   "outputs": [],
   "source": [
    "date1.day"
   ]
  },
  {
   "cell_type": "code",
   "execution_count": null,
   "id": "e38c3730",
   "metadata": {
    "colab": {
     "base_uri": "https://localhost:8080/"
    },
    "executionInfo": {
     "elapsed": 374,
     "status": "ok",
     "timestamp": 1682559390004,
     "user": {
      "displayName": "Jitendra Rathod",
      "userId": "08588782662248261812"
     },
     "user_tz": -330
    },
    "id": "e38c3730",
    "outputId": "b0f5543b-c636-4be4-b8f0-3c962aa65597"
   },
   "outputs": [],
   "source": [
    "date1.hour"
   ]
  },
  {
   "cell_type": "code",
   "execution_count": null,
   "id": "900a7abe",
   "metadata": {
    "colab": {
     "base_uri": "https://localhost:8080/"
    },
    "executionInfo": {
     "elapsed": 377,
     "status": "ok",
     "timestamp": 1682559394506,
     "user": {
      "displayName": "Jitendra Rathod",
      "userId": "08588782662248261812"
     },
     "user_tz": -330
    },
    "id": "900a7abe",
    "outputId": "a34ab868-e3ad-447f-ba25-f2da5dbe8831"
   },
   "outputs": [],
   "source": [
    "date1.isoweekday()"
   ]
  },
  {
   "cell_type": "code",
   "execution_count": null,
   "id": "cc387dd6",
   "metadata": {
    "colab": {
     "base_uri": "https://localhost:8080/"
    },
    "executionInfo": {
     "elapsed": 476,
     "status": "ok",
     "timestamp": 1682559424154,
     "user": {
      "displayName": "Jitendra Rathod",
      "userId": "08588782662248261812"
     },
     "user_tz": -330
    },
    "id": "cc387dd6",
    "outputId": "fec0fd55-4e0f-4a04-cebb-dad131a905c5"
   },
   "outputs": [],
   "source": [
    "date1.month"
   ]
  },
  {
   "cell_type": "code",
   "execution_count": null,
   "id": "d2b1b164",
   "metadata": {},
   "outputs": [],
   "source": [
    "date1.hour"
   ]
  },
  {
   "cell_type": "code",
   "execution_count": null,
   "id": "87a933e1",
   "metadata": {
    "id": "87a933e1"
   },
   "outputs": [],
   "source": [
    "# Time submodule\n",
    "\n",
    "from datetime import time"
   ]
  },
  {
   "cell_type": "code",
   "execution_count": null,
   "id": "dbf47ed8",
   "metadata": {
    "colab": {
     "base_uri": "https://localhost:8080/"
    },
    "executionInfo": {
     "elapsed": 2,
     "status": "ok",
     "timestamp": 1682559528583,
     "user": {
      "displayName": "Jitendra Rathod",
      "userId": "08588782662248261812"
     },
     "user_tz": -330
    },
    "id": "dbf47ed8",
    "outputId": "6d73acb0-5a0f-4273-8435-85f52835358c"
   },
   "outputs": [],
   "source": [
    "my_time = time(7,8,45)\n",
    "\n",
    "print(\"Entered time\", my_time)"
   ]
  },
  {
   "cell_type": "code",
   "execution_count": null,
   "id": "dfcb1bdd",
   "metadata": {
    "colab": {
     "base_uri": "https://localhost:8080/"
    },
    "executionInfo": {
     "elapsed": 486,
     "status": "ok",
     "timestamp": 1682560084006,
     "user": {
      "displayName": "Jitendra Rathod",
      "userId": "08588782662248261812"
     },
     "user_tz": -330
    },
    "id": "dfcb1bdd",
    "outputId": "d04c286c-2971-4842-80d3-2611ac5daaba"
   },
   "outputs": [],
   "source": [
    "# Timedelta function demonstration\n",
    "\n",
    "from datetime import date, timedelta\n",
    "\n",
    "current_date = date.today()\n",
    "\n",
    "# Calculating future dates\n",
    "# for 730 days\n",
    "future_date_after_2yrs = current_date + timedelta(days=730)\n",
    "future_date_after_2yrs"
   ]
  },
  {
   "cell_type": "code",
   "execution_count": null,
   "id": "10a5a45b",
   "metadata": {
    "id": "10a5a45b"
   },
   "outputs": [],
   "source": [
    "## Task:-Calculate your age after 5000 days.\n",
    "##The output should be in years\n",
    "\n",
    "from datetime import datetime, timedelta\n",
    "\n",
    " # Calculate the future date after the specified number of days\n",
    "future_date = datetime.now() + timedelta(days=5000)\n",
    "\n",
    "    # Calculate the age after the specified number of days\n",
    "future_date"
   ]
  },
  {
   "cell_type": "code",
   "execution_count": 13,
   "id": "ba9d5680",
   "metadata": {},
   "outputs": [
    {
     "name": "stdout",
     "output_type": "stream",
     "text": [
      "Enter your current age: 24\n",
      "2000\n",
      "2038-09-04 11:46:09.326884\n",
      "Your age after 5000 days will be approximately: 38 years\n"
     ]
    }
   ],
   "source": [
    "from datetime import datetime, timedelta,date\n",
    "\n",
    "# Input: current age\n",
    "current_age = int(input(\"Enter your current age: \"))\n",
    "#birth_date = date(2000,23,1)\n",
    "# Calculate the current date of birth (approximation assuming the birthday has passed this year)\n",
    "current_year = datetime.now().year\n",
    "birth_year = current_year - current_age\n",
    "print(birth_year)\n",
    "# Calculate the date 5000 days from now\n",
    "future_date = datetime.now() + timedelta(days=5000)\n",
    "print(future_date)\n",
    "# Calculate age after 5000 days\n",
    "future_age = future_date.year - birth_year\n",
    "\n",
    "# Output the result\n",
    "print(f\"Your age after 5000 days will be approximately: {future_age} years\")\n"
   ]
  },
  {
   "cell_type": "code",
   "execution_count": 22,
   "id": "29aab082",
   "metadata": {},
   "outputs": [
    {
     "name": "stdout",
     "output_type": "stream",
     "text": [
      "26\n",
      "2038-09-04 12:18:19.519477\n",
      "2038\n",
      "2012\n"
     ]
    }
   ],
   "source": [
    "from datetime import datetime, timedelta,date\n",
    "\n",
    "birth_date = date(1998,12,1)\n",
    "birth_year = birth_date.year\n",
    "current_year = datetime.now().year\n",
    "present_age = current_year - birth_year\n",
    "print(present_age)\n",
    "# Calculate the date 5000 days from now\n",
    "future_date = datetime.now() + timedelta(days=5000)\n",
    "print(future_date)\n",
    "# Calculate age after 5000 days\n",
    "f_year = future_date.year\n",
    "print(future_date.year)\n",
    "future_age = f_year - present_age\n",
    "print(future_age)"
   ]
  },
  {
   "cell_type": "code",
   "execution_count": 25,
   "id": "84825f3d",
   "metadata": {},
   "outputs": [
    {
     "data": {
      "text/plain": [
       "4016"
      ]
     },
     "execution_count": 25,
     "metadata": {},
     "output_type": "execute_result"
    }
   ],
   "source": [
    "from datetime import datetime, timedelta,date\n",
    "b_date = date(1992,12,1).year\n",
    "p_data = date.today().year\n",
    "p_age = p_data + b_date\n",
    "p_age"
   ]
  },
  {
   "cell_type": "markdown",
   "id": "fcba5077",
   "metadata": {
    "id": "fcba5077"
   },
   "source": [
    "# Data Structures of Python"
   ]
  },
  {
   "cell_type": "markdown",
   "id": "7538dada",
   "metadata": {
    "id": "7538dada"
   },
   "source": [
    "## List"
   ]
  },
  {
   "cell_type": "raw",
   "id": "0a684516",
   "metadata": {
    "id": "0a684516"
   },
   "source": [
    "1)\tList is a sequence of items.\n",
    "2)\tWe can have different data types under a list.\n",
    "E.g we can have integer, float and string items in a same list.\n"
   ]
  },
  {
   "cell_type": "code",
   "execution_count": null,
   "id": "1c89ab4e",
   "metadata": {
    "id": "1c89ab4e"
   },
   "outputs": [],
   "source": [
    "# List creation\n",
    "\n",
    "l1=[] # Empty list\n"
   ]
  },
  {
   "cell_type": "code",
   "execution_count": null,
   "id": "875bb97a",
   "metadata": {},
   "outputs": [],
   "source": [
    "l1"
   ]
  },
  {
   "cell_type": "code",
   "execution_count": null,
   "id": "e6266bf0",
   "metadata": {
    "colab": {
     "base_uri": "https://localhost:8080/"
    },
    "executionInfo": {
     "elapsed": 359,
     "status": "ok",
     "timestamp": 1682560519005,
     "user": {
      "displayName": "Jitendra Rathod",
      "userId": "08588782662248261812"
     },
     "user_tz": -330
    },
    "id": "e6266bf0",
    "outputId": "08f0a2bb-8a14-42ed-f4e9-ebcd59b024c3"
   },
   "outputs": [],
   "source": [
    "type(l1)"
   ]
  },
  {
   "cell_type": "code",
   "execution_count": null,
   "id": "a8b8e527",
   "metadata": {},
   "outputs": [],
   "source": [
    "l = list()\n",
    "type(l)"
   ]
  },
  {
   "cell_type": "code",
   "execution_count": null,
   "id": "6e69d884",
   "metadata": {},
   "outputs": [],
   "source": [
    "a=[1,2,3,4]\n",
    "a"
   ]
  },
  {
   "cell_type": "code",
   "execution_count": null,
   "id": "2ff962f2",
   "metadata": {},
   "outputs": [],
   "source": [
    "type(a)"
   ]
  },
  {
   "cell_type": "code",
   "execution_count": null,
   "id": "2f961072",
   "metadata": {
    "colab": {
     "base_uri": "https://localhost:8080/"
    },
    "executionInfo": {
     "elapsed": 357,
     "status": "ok",
     "timestamp": 1682560666086,
     "user": {
      "displayName": "Jitendra Rathod",
      "userId": "08588782662248261812"
     },
     "user_tz": -330
    },
    "id": "2f961072",
    "outputId": "48428d82-8bb8-4640-de8d-9e0cdc9832aa"
   },
   "outputs": [],
   "source": [
    "l2=list([1,2,3,4]) # List of integer\n",
    "l2"
   ]
  },
  {
   "cell_type": "code",
   "execution_count": null,
   "id": "f9a9d465",
   "metadata": {
    "colab": {
     "base_uri": "https://localhost:8080/"
    },
    "executionInfo": {
     "elapsed": 651,
     "status": "ok",
     "timestamp": 1682560679789,
     "user": {
      "displayName": "Jitendra Rathod",
      "userId": "08588782662248261812"
     },
     "user_tz": -330
    },
    "id": "f9a9d465",
    "outputId": "f4566199-b4ea-4718-dceb-20fb0c3108b2"
   },
   "outputs": [],
   "source": [
    "type(l2)"
   ]
  },
  {
   "cell_type": "code",
   "execution_count": null,
   "id": "b0e78212",
   "metadata": {
    "id": "b0e78212"
   },
   "outputs": [],
   "source": [
    "l3=[12.3,34.5,56.23,5.3] \n",
    "l3          # List of float"
   ]
  },
  {
   "cell_type": "code",
   "execution_count": null,
   "id": "45c2bf53",
   "metadata": {},
   "outputs": [],
   "source": [
    "len(l3)"
   ]
  },
  {
   "cell_type": "code",
   "execution_count": null,
   "id": "5f21fb99",
   "metadata": {
    "id": "5f21fb99"
   },
   "outputs": [],
   "source": [
    "l4=['ABC','PQR','RES']\n",
    "l4# List of strings"
   ]
  },
  {
   "cell_type": "code",
   "execution_count": null,
   "id": "23cdb805",
   "metadata": {
    "id": "23cdb805"
   },
   "outputs": [],
   "source": [
    "l5=['Data',25,[50,100],[150,90]]\n",
    "#  Nested  Lists i.e list inside list"
   ]
  },
  {
   "cell_type": "code",
   "execution_count": null,
   "id": "2560686c",
   "metadata": {},
   "outputs": [],
   "source": [
    "len(l5)"
   ]
  },
  {
   "cell_type": "code",
   "execution_count": null,
   "id": "7428dc93",
   "metadata": {
    "id": "7428dc93"
   },
   "outputs": [],
   "source": [
    "l6=[100,  'Data',  17.765] #  List  of  mixed  data  types"
   ]
  },
  {
   "cell_type": "code",
   "execution_count": null,
   "id": "984278b2",
   "metadata": {
    "id": "984278b2"
   },
   "outputs": [],
   "source": [
    "len(l6) # Number of elements in list"
   ]
  },
  {
   "cell_type": "markdown",
   "id": "1aa1ca32",
   "metadata": {
    "id": "1aa1ca32"
   },
   "source": [
    "## List Indexing and  Slicing"
   ]
  },
  {
   "cell_type": "code",
   "execution_count": null,
   "id": "2b706da5",
   "metadata": {
    "id": "2b706da5"
   },
   "outputs": [],
   "source": [
    "mylist = ['one' , 'two' , 'three' , 'four' , 'five' , 'six' ,\n",
    "          'seven' , 'eight']"
   ]
  },
  {
   "cell_type": "code",
   "execution_count": null,
   "id": "921e642f",
   "metadata": {
    "colab": {
     "base_uri": "https://localhost:8080/",
     "height": 36
    },
    "executionInfo": {
     "elapsed": 5,
     "status": "ok",
     "timestamp": 1682561415363,
     "user": {
      "displayName": "Jitendra Rathod",
      "userId": "08588782662248261812"
     },
     "user_tz": -330
    },
    "id": "921e642f",
    "outputId": "6c5f0ffa-d0df-4f1a-8e3c-9a35b4d5f2b0"
   },
   "outputs": [],
   "source": [
    "mylist[6]"
   ]
  },
  {
   "cell_type": "code",
   "execution_count": null,
   "id": "2ee42b77",
   "metadata": {
    "colab": {
     "base_uri": "https://localhost:8080/"
    },
    "executionInfo": {
     "elapsed": 2,
     "status": "ok",
     "timestamp": 1682561643134,
     "user": {
      "displayName": "Jitendra Rathod",
      "userId": "08588782662248261812"
     },
     "user_tz": -330
    },
    "id": "2ee42b77",
    "outputId": "0c1fc525-7180-44fc-f981-a20a9e3c4b85"
   },
   "outputs": [],
   "source": [
    "mylist[0:3]  #  Return  all  items  from  0th  to  3rd  index  location  \n",
    "#excluding  the  item at upper limit"
   ]
  },
  {
   "cell_type": "code",
   "execution_count": null,
   "id": "X-p7lN67laVK",
   "metadata": {
    "id": "X-p7lN67laVK"
   },
   "outputs": [],
   "source": [
    "mylist"
   ]
  },
  {
   "cell_type": "code",
   "execution_count": null,
   "id": "7f0588cd",
   "metadata": {
    "colab": {
     "base_uri": "https://localhost:8080/"
    },
    "executionInfo": {
     "elapsed": 379,
     "status": "ok",
     "timestamp": 1682562456199,
     "user": {
      "displayName": "Jitendra Rathod",
      "userId": "08588782662248261812"
     },
     "user_tz": -330
    },
    "id": "7f0588cd",
    "outputId": "d8fe2797-a841-43ab-fb99-45de30fcb2c7"
   },
   "outputs": [],
   "source": [
    "mylist[0:7:3]"
   ]
  },
  {
   "cell_type": "markdown",
   "id": "b46cc26d",
   "metadata": {
    "id": "b46cc26d"
   },
   "source": [
    "## Add , Remove & Change Items"
   ]
  },
  {
   "cell_type": "code",
   "execution_count": null,
   "id": "9cea3777",
   "metadata": {
    "colab": {
     "base_uri": "https://localhost:8080/"
    },
    "executionInfo": {
     "elapsed": 1820,
     "status": "ok",
     "timestamp": 1682563608208,
     "user": {
      "displayName": "Jitendra Rathod",
      "userId": "08588782662248261812"
     },
     "user_tz": -330
    },
    "id": "9cea3777",
    "outputId": "595395cb-f7e7-4974-fd28-17467f4bb652"
   },
   "outputs": [],
   "source": [
    "mylist"
   ]
  },
  {
   "cell_type": "code",
   "execution_count": null,
   "id": "12234e89",
   "metadata": {
    "colab": {
     "base_uri": "https://localhost:8080/"
    },
    "executionInfo": {
     "elapsed": 680,
     "status": "ok",
     "timestamp": 1682563695890,
     "user": {
      "displayName": "Jitendra Rathod",
      "userId": "08588782662248261812"
     },
     "user_tz": -330
    },
    "id": "12234e89",
    "outputId": "3c7d387d-4b1b-4b77-e1c9-2abdca43b46f"
   },
   "outputs": [],
   "source": [
    "mylist.append('nine')\n",
    "#Add  an  item  to  the  end  of  the  list\n",
    "mylist"
   ]
  },
  {
   "cell_type": "code",
   "execution_count": null,
   "id": "445eb9bb",
   "metadata": {
    "id": "445eb9bb"
   },
   "outputs": [],
   "source": [
    "mylist.append(2)"
   ]
  },
  {
   "cell_type": "code",
   "execution_count": null,
   "id": "ebdc07d0",
   "metadata": {
    "colab": {
     "base_uri": "https://localhost:8080/"
    },
    "executionInfo": {
     "elapsed": 1039,
     "status": "ok",
     "timestamp": 1682563744951,
     "user": {
      "displayName": "Jitendra Rathod",
      "userId": "08588782662248261812"
     },
     "user_tz": -330
    },
    "id": "ebdc07d0",
    "outputId": "427e1983-1d5b-40b2-a3fd-5cb042efff7f"
   },
   "outputs": [],
   "source": [
    "mylist"
   ]
  },
  {
   "cell_type": "code",
   "execution_count": null,
   "id": "dc92d609",
   "metadata": {},
   "outputs": [],
   "source": [
    "l=[1,2,3]"
   ]
  },
  {
   "cell_type": "code",
   "execution_count": null,
   "id": "0bb9d51e",
   "metadata": {},
   "outputs": [],
   "source": [
    "mylist.insert(3,l)"
   ]
  },
  {
   "cell_type": "code",
   "execution_count": null,
   "id": "0c1c96c1",
   "metadata": {},
   "outputs": [],
   "source": [
    "mylist"
   ]
  },
  {
   "cell_type": "code",
   "execution_count": null,
   "id": "b04bc01d",
   "metadata": {},
   "outputs": [],
   "source": [
    "len(mylist)"
   ]
  },
  {
   "cell_type": "code",
   "execution_count": null,
   "id": "365cec19",
   "metadata": {
    "colab": {
     "base_uri": "https://localhost:8080/"
    },
    "executionInfo": {
     "elapsed": 393,
     "status": "ok",
     "timestamp": 1682563938428,
     "user": {
      "displayName": "Jitendra Rathod",
      "userId": "08588782662248261812"
     },
     "user_tz": -330
    },
    "id": "365cec19",
    "outputId": "160a9ff9-2b34-4342-fd51-b734692efee8"
   },
   "outputs": [],
   "source": [
    "mylist.insert(3,'ten')\n",
    "# Add  item  at  index  location  3\n",
    "mylist"
   ]
  },
  {
   "cell_type": "code",
   "execution_count": null,
   "id": "bbd921b2",
   "metadata": {
    "colab": {
     "base_uri": "https://localhost:8080/"
    },
    "executionInfo": {
     "elapsed": 413,
     "status": "ok",
     "timestamp": 1682564224931,
     "user": {
      "displayName": "Jitendra Rathod",
      "userId": "08588782662248261812"
     },
     "user_tz": -330
    },
    "id": "bbd921b2",
    "outputId": "46da0fb6-8890-43ce-9d17-54f6c6798fe7"
   },
   "outputs": [],
   "source": [
    "mylist.extend([1,2,3])\n",
    "#Add multiple elements at a time at end of list\n",
    "mylist"
   ]
  },
  {
   "cell_type": "code",
   "execution_count": null,
   "id": "c6fc8949",
   "metadata": {},
   "outputs": [],
   "source": [
    "len(mylist)"
   ]
  },
  {
   "cell_type": "code",
   "execution_count": null,
   "id": "3fc24493",
   "metadata": {
    "colab": {
     "base_uri": "https://localhost:8080/"
    },
    "executionInfo": {
     "elapsed": 671,
     "status": "ok",
     "timestamp": 1682564576685,
     "user": {
      "displayName": "Jitendra Rathod",
      "userId": "08588782662248261812"
     },
     "user_tz": -330
    },
    "id": "3fc24493",
    "outputId": "2d0052bb-26c5-4d8d-aa73-e1fa4be26614"
   },
   "outputs": [],
   "source": [
    "mylist.pop()  # Remove last  element from list"
   ]
  },
  {
   "cell_type": "code",
   "execution_count": null,
   "id": "7c2d9922",
   "metadata": {},
   "outputs": [],
   "source": [
    "mylist"
   ]
  },
  {
   "cell_type": "code",
   "execution_count": null,
   "id": "b1bc2f8a",
   "metadata": {},
   "outputs": [],
   "source": [
    "mylist"
   ]
  },
  {
   "cell_type": "code",
   "execution_count": null,
   "id": "98b1bf46",
   "metadata": {
    "colab": {
     "base_uri": "https://localhost:8080/"
    },
    "executionInfo": {
     "elapsed": 459,
     "status": "ok",
     "timestamp": 1682564684007,
     "user": {
      "displayName": "Jitendra Rathod",
      "userId": "08588782662248261812"
     },
     "user_tz": -330
    },
    "id": "98b1bf46",
    "outputId": "0aa425eb-a448-486a-f44b-a6fc7c23a725"
   },
   "outputs": [],
   "source": [
    "mylist.pop(1)  #  Remove  item  at  index  location  8\n",
    "mylist\n"
   ]
  },
  {
   "cell_type": "code",
   "execution_count": null,
   "id": "729f2670",
   "metadata": {},
   "outputs": [],
   "source": [
    "mylist"
   ]
  },
  {
   "cell_type": "code",
   "execution_count": null,
   "id": "ad56e87a",
   "metadata": {
    "colab": {
     "base_uri": "https://localhost:8080/"
    },
    "executionInfo": {
     "elapsed": 706,
     "status": "ok",
     "timestamp": 1682564807620,
     "user": {
      "displayName": "Jitendra Rathod",
      "userId": "08588782662248261812"
     },
     "user_tz": -330
    },
    "id": "ad56e87a",
    "outputId": "cded879d-047f-4fd8-94e6-9fcf38081f25"
   },
   "outputs": [],
   "source": [
    "mylist.remove('one')  #  Remove  item  \"ONE\" (value)\n",
    "mylist\n"
   ]
  },
  {
   "cell_type": "code",
   "execution_count": null,
   "id": "dec26cfe",
   "metadata": {},
   "outputs": [],
   "source": [
    "mylist"
   ]
  },
  {
   "cell_type": "code",
   "execution_count": null,
   "id": "a2667e93",
   "metadata": {
    "colab": {
     "base_uri": "https://localhost:8080/"
    },
    "executionInfo": {
     "elapsed": 410,
     "status": "ok",
     "timestamp": 1682565104534,
     "user": {
      "displayName": "Jitendra Rathod",
      "userId": "08588782662248261812"
     },
     "user_tz": -330
    },
    "id": "a2667e93",
    "outputId": "4c4598d4-eaf7-4cb1-cab3-ac87533ac3f1"
   },
   "outputs": [],
   "source": [
    "del  mylist[2]  #  Remove  item  at  index  location  2\n",
    "mylist\n"
   ]
  },
  {
   "cell_type": "code",
   "execution_count": null,
   "id": "fba72e9b",
   "metadata": {},
   "outputs": [],
   "source": [
    "mylist"
   ]
  },
  {
   "cell_type": "code",
   "execution_count": null,
   "id": "25b7dd47",
   "metadata": {
    "colab": {
     "base_uri": "https://localhost:8080/"
    },
    "executionInfo": {
     "elapsed": 397,
     "status": "ok",
     "timestamp": 1682565224573,
     "user": {
      "displayName": "Jitendra Rathod",
      "userId": "08588782662248261812"
     },
     "user_tz": -330
    },
    "id": "25b7dd47",
    "outputId": "a04a209a-66fa-407d-e831-e73fc5ba7c2b"
   },
   "outputs": [],
   "source": [
    "mylist.clear()# Empty List / Delete all items in the list\n",
    "mylist"
   ]
  },
  {
   "cell_type": "code",
   "execution_count": null,
   "id": "93ff6c9a",
   "metadata": {
    "id": "93ff6c9a"
   },
   "outputs": [],
   "source": [
    "del mylist # Delete entire list"
   ]
  },
  {
   "cell_type": "code",
   "execution_count": null,
   "id": "3d1572d1",
   "metadata": {
    "id": "3d1572d1"
   },
   "outputs": [],
   "source": [
    "mylist"
   ]
  },
  {
   "cell_type": "markdown",
   "id": "46aa6701",
   "metadata": {
    "id": "46aa6701"
   },
   "source": [
    "## Join Lists"
   ]
  },
  {
   "cell_type": "code",
   "execution_count": null,
   "id": "76b7b145",
   "metadata": {
    "id": "76b7b145"
   },
   "outputs": [],
   "source": [
    "list1 = ['one', 'two', 'three', 'four']\n",
    "list2 = ['five', 'six', 'seven', 'eight']\n"
   ]
  },
  {
   "cell_type": "code",
   "execution_count": null,
   "id": "d7b97342",
   "metadata": {
    "colab": {
     "base_uri": "https://localhost:8080/"
    },
    "executionInfo": {
     "elapsed": 478,
     "status": "ok",
     "timestamp": 1682565493942,
     "user": {
      "displayName": "Jitendra Rathod",
      "userId": "08588782662248261812"
     },
     "user_tz": -330
    },
    "id": "d7b97342",
    "outputId": "73802ae4-a936-40f8-92d7-f3c68c3d3ee4"
   },
   "outputs": [],
   "source": [
    "list3 = list1 + list2 # Join two lists by '+' operator\n",
    "list3\n"
   ]
  },
  {
   "cell_type": "code",
   "execution_count": null,
   "id": "88b00f56",
   "metadata": {
    "colab": {
     "base_uri": "https://localhost:8080/"
    },
    "executionInfo": {
     "elapsed": 3,
     "status": "ok",
     "timestamp": 1682565621255,
     "user": {
      "displayName": "Jitendra Rathod",
      "userId": "08588782662248261812"
     },
     "user_tz": -330
    },
    "id": "88b00f56",
    "outputId": "8e99a9ca-32b7-475e-b6bb-831aefdfb509"
   },
   "outputs": [],
   "source": [
    "list2.extend(list1) #Append list2 with list1\n",
    "list2\n"
   ]
  },
  {
   "cell_type": "code",
   "execution_count": null,
   "id": "b2a1f264",
   "metadata": {},
   "outputs": [],
   "source": [
    "list2"
   ]
  },
  {
   "cell_type": "code",
   "execution_count": null,
   "id": "3323530e",
   "metadata": {},
   "outputs": [],
   "source": [
    "len(list2)"
   ]
  },
  {
   "cell_type": "code",
   "execution_count": null,
   "id": "5a108e3c",
   "metadata": {},
   "outputs": [],
   "source": [
    "list1.append(list2)\n",
    "list1"
   ]
  },
  {
   "cell_type": "code",
   "execution_count": null,
   "id": "126d22b4",
   "metadata": {
    "scrolled": true
   },
   "outputs": [],
   "source": [
    "len(list1)"
   ]
  },
  {
   "cell_type": "code",
   "execution_count": null,
   "id": "29819cea",
   "metadata": {},
   "outputs": [],
   "source": [
    "lis = ['a','b','c']\n",
    "lis.extend(['j'])\n",
    "print(lis)"
   ]
  },
  {
   "cell_type": "code",
   "execution_count": null,
   "id": "ad112669",
   "metadata": {},
   "outputs": [],
   "source": [
    "lis = ['a','b','c']\n",
    "l = lis.extend(['j'])\n",
    "print(l)"
   ]
  },
  {
   "cell_type": "markdown",
   "id": "60e46d90",
   "metadata": {
    "id": "60e46d90"
   },
   "source": [
    "## List Membership"
   ]
  },
  {
   "cell_type": "code",
   "execution_count": null,
   "id": "8a8aa222",
   "metadata": {
    "id": "8a8aa222"
   },
   "outputs": [],
   "source": [
    "## 'in' is membership operator and will check if given element is present\n",
    "## in sequence."
   ]
  },
  {
   "cell_type": "code",
   "execution_count": null,
   "id": "34e1b703",
   "metadata": {
    "colab": {
     "base_uri": "https://localhost:8080/"
    },
    "executionInfo": {
     "elapsed": 11,
     "status": "ok",
     "timestamp": 1682565716004,
     "user": {
      "displayName": "Jitendra Rathod",
      "userId": "08588782662248261812"
     },
     "user_tz": -330
    },
    "id": "34e1b703",
    "outputId": "61e6c4e7-e760-4b2f-ef58-e815ecbb49f0"
   },
   "outputs": [],
   "source": [
    "list1"
   ]
  },
  {
   "cell_type": "code",
   "execution_count": null,
   "id": "ae71db76",
   "metadata": {
    "colab": {
     "base_uri": "https://localhost:8080/"
    },
    "executionInfo": {
     "elapsed": 6,
     "status": "ok",
     "timestamp": 1682565767155,
     "user": {
      "displayName": "Jitendra Rathod",
      "userId": "08588782662248261812"
     },
     "user_tz": -330
    },
    "id": "ae71db76",
    "outputId": "be26d400-b118-44de-9998-740c3e7a0246"
   },
   "outputs": [],
   "source": [
    "'one' in list1 # Check if 'one' exist in the list"
   ]
  },
  {
   "cell_type": "code",
   "execution_count": null,
   "id": "86b994ae",
   "metadata": {
    "colab": {
     "base_uri": "https://localhost:8080/"
    },
    "executionInfo": {
     "elapsed": 1779,
     "status": "ok",
     "timestamp": 1682565842311,
     "user": {
      "displayName": "Jitendra Rathod",
      "userId": "08588782662248261812"
     },
     "user_tz": -330
    },
    "id": "86b994ae",
    "outputId": "23c03611-e4f0-41ce-e5e9-4c2592d53998"
   },
   "outputs": [],
   "source": [
    "10 not in list1 # Check if 'ten' exist in the list"
   ]
  },
  {
   "cell_type": "markdown",
   "id": "57d40be1",
   "metadata": {
    "id": "57d40be1"
   },
   "source": [
    "## Reverse & Sort List"
   ]
  },
  {
   "cell_type": "code",
   "execution_count": null,
   "id": "eb867dec",
   "metadata": {
    "id": "eb867dec"
   },
   "outputs": [],
   "source": [
    "list1 = [5,7,2,9,1,0,42] # reverse order"
   ]
  },
  {
   "cell_type": "code",
   "execution_count": null,
   "id": "29734427",
   "metadata": {},
   "outputs": [],
   "source": [
    "list1"
   ]
  },
  {
   "cell_type": "code",
   "execution_count": null,
   "id": "4d00081f",
   "metadata": {
    "colab": {
     "base_uri": "https://localhost:8080/"
    },
    "executionInfo": {
     "elapsed": 384,
     "status": "ok",
     "timestamp": 1682646081784,
     "user": {
      "displayName": "Jitendra Rathod",
      "userId": "08588782662248261812"
     },
     "user_tz": -330
    },
    "id": "4d00081f",
    "outputId": "8fd5c8ed-b9ae-42ef-e985-7aab78a7021e"
   },
   "outputs": [],
   "source": [
    "list1.reverse() # Reverse the list\n",
    "list1\n"
   ]
  },
  {
   "cell_type": "code",
   "execution_count": null,
   "id": "89da0441",
   "metadata": {},
   "outputs": [],
   "source": [
    "list1"
   ]
  },
  {
   "cell_type": "code",
   "execution_count": null,
   "id": "d7d46941",
   "metadata": {
    "colab": {
     "base_uri": "https://localhost:8080/"
    },
    "executionInfo": {
     "elapsed": 4,
     "status": "ok",
     "timestamp": 1682646437021,
     "user": {
      "displayName": "Jitendra Rathod",
      "userId": "08588782662248261812"
     },
     "user_tz": -330
    },
    "id": "d7d46941",
    "outputId": "a2e185af-c6b1-4b99-d6b6-86f9f41cd9f5"
   },
   "outputs": [],
   "source": [
    "list1[::-1]  #  Reverse  the  list\n"
   ]
  },
  {
   "cell_type": "code",
   "execution_count": null,
   "id": "a1e54fbf",
   "metadata": {
    "id": "a1e54fbf"
   },
   "outputs": [],
   "source": [
    "list1.sort()"
   ]
  },
  {
   "cell_type": "code",
   "execution_count": null,
   "id": "dc4c4e02",
   "metadata": {
    "colab": {
     "base_uri": "https://localhost:8080/"
    },
    "executionInfo": {
     "elapsed": 390,
     "status": "ok",
     "timestamp": 1682646602527,
     "user": {
      "displayName": "Jitendra Rathod",
      "userId": "08588782662248261812"
     },
     "user_tz": -330
    },
    "id": "dc4c4e02",
    "outputId": "d43407ca-3ed3-484c-cccd-1e0a11f12e62"
   },
   "outputs": [],
   "source": [
    "list1"
   ]
  },
  {
   "cell_type": "code",
   "execution_count": null,
   "id": "903d2e01",
   "metadata": {
    "id": "903d2e01"
   },
   "outputs": [],
   "source": [
    "list4=[9.6,34,1,2,3.5,4]"
   ]
  },
  {
   "cell_type": "code",
   "execution_count": null,
   "id": "7da60b28",
   "metadata": {
    "colab": {
     "base_uri": "https://localhost:8080/",
     "height": 171
    },
    "executionInfo": {
     "elapsed": 495,
     "status": "error",
     "timestamp": 1682646622209,
     "user": {
      "displayName": "Jitendra Rathod",
      "userId": "08588782662248261812"
     },
     "user_tz": -330
    },
    "id": "7da60b28",
    "outputId": "3137fbbc-7e63-4444-c46c-e37e40df8980"
   },
   "outputs": [],
   "source": [
    "list4.sort()"
   ]
  },
  {
   "cell_type": "code",
   "execution_count": null,
   "id": "5094209a",
   "metadata": {
    "colab": {
     "base_uri": "https://localhost:8080/"
    },
    "executionInfo": {
     "elapsed": 392,
     "status": "ok",
     "timestamp": 1682646870512,
     "user": {
      "displayName": "Jitendra Rathod",
      "userId": "08588782662248261812"
     },
     "user_tz": -330
    },
    "id": "5094209a",
    "outputId": "ca064d73-3c22-4319-dcb4-0207d1c300df"
   },
   "outputs": [],
   "source": [
    "list4"
   ]
  },
  {
   "cell_type": "code",
   "execution_count": null,
   "id": "11283ce8",
   "metadata": {
    "colab": {
     "base_uri": "https://localhost:8080/"
    },
    "executionInfo": {
     "elapsed": 401,
     "status": "ok",
     "timestamp": 1682646895715,
     "user": {
      "displayName": "Jitendra Rathod",
      "userId": "08588782662248261812"
     },
     "user_tz": -330
    },
    "id": "11283ce8",
    "outputId": "ef739405-96a4-43f0-d84b-5bd41062a979"
   },
   "outputs": [],
   "source": [
    "mylist3  =  [9,5,2,99,12,88,34]\n",
    "mylist3.sort(reverse=False)\t# Sort list in ascending order\n",
    "mylist3\n"
   ]
  },
  {
   "cell_type": "code",
   "execution_count": null,
   "id": "675135ba",
   "metadata": {
    "id": "675135ba"
   },
   "outputs": [],
   "source": [
    "mylist3  =  [9,5,2,99,12,88,34]\n",
    "mylist3.sort(reverse=True)\t#  Sort  list  in  descending  order\n",
    "mylist3\n"
   ]
  },
  {
   "cell_type": "code",
   "execution_count": null,
   "id": "d1fba78e",
   "metadata": {
    "id": "d1fba78e"
   },
   "outputs": [],
   "source": [
    "list4=[1,2,3,'cat','dog','egg']"
   ]
  },
  {
   "cell_type": "code",
   "execution_count": null,
   "id": "3e1ce921",
   "metadata": {},
   "outputs": [],
   "source": [
    "list4"
   ]
  },
  {
   "cell_type": "code",
   "execution_count": null,
   "id": "bb3db282",
   "metadata": {
    "id": "bb3db282"
   },
   "outputs": [],
   "source": [
    "list4.sort()"
   ]
  },
  {
   "cell_type": "code",
   "execution_count": null,
   "id": "0f7d91c0",
   "metadata": {},
   "outputs": [],
   "source": [
    "l1=['abs','abc','aaf','fre','kjh','jyo']\n",
    "l1"
   ]
  },
  {
   "cell_type": "code",
   "execution_count": null,
   "id": "8d068fb7",
   "metadata": {},
   "outputs": [],
   "source": [
    "l1.sort(reverse=True)"
   ]
  },
  {
   "cell_type": "code",
   "execution_count": null,
   "id": "34f74f66",
   "metadata": {},
   "outputs": [],
   "source": [
    "l1"
   ]
  },
  {
   "cell_type": "markdown",
   "id": "93722144",
   "metadata": {
    "id": "93722144"
   },
   "source": [
    "## All / Any\n",
    "\n",
    "\n",
    "\n"
   ]
  },
  {
   "cell_type": "raw",
   "id": "a4f5e776",
   "metadata": {
    "id": "a4f5e776"
   },
   "source": [
    "The all() method returns:\n",
    "\n",
    "True - If all elements in a list is true\n",
    "False - If any element in a list is false\n",
    "\n",
    "The any() function returns True if any element in the list is True.\n",
    "If not, any() returns False."
   ]
  },
  {
   "cell_type": "code",
   "execution_count": null,
   "id": "a8410967",
   "metadata": {
    "id": "a8410967"
   },
   "outputs": [],
   "source": [
    "L1  =  [1,2,3,4,6]"
   ]
  },
  {
   "cell_type": "code",
   "execution_count": null,
   "id": "0c7a9c78",
   "metadata": {
    "id": "0c7a9c78"
   },
   "outputs": [],
   "source": [
    "L3=[1,2,3,4,0]"
   ]
  },
  {
   "cell_type": "code",
   "execution_count": null,
   "id": "e2f04cfe",
   "metadata": {},
   "outputs": [],
   "source": [
    "all(L1)"
   ]
  },
  {
   "cell_type": "code",
   "execution_count": null,
   "id": "90b5d4e5",
   "metadata": {
    "colab": {
     "base_uri": "https://localhost:8080/"
    },
    "executionInfo": {
     "elapsed": 30,
     "status": "ok",
     "timestamp": 1682647298100,
     "user": {
      "displayName": "Jitendra Rathod",
      "userId": "08588782662248261812"
     },
     "user_tz": -330
    },
    "id": "90b5d4e5",
    "outputId": "ec21590e-78f5-4206-f2f6-0dcfb5e3c4b0"
   },
   "outputs": [],
   "source": [
    "all(L3) # Will Return false as one value is false (Value 0)"
   ]
  },
  {
   "cell_type": "code",
   "execution_count": null,
   "id": "481ab806",
   "metadata": {
    "id": "481ab806"
   },
   "outputs": [],
   "source": [
    "any(L1)\t# Will Return True as we have items in the list with\n",
    "#True value"
   ]
  },
  {
   "cell_type": "code",
   "execution_count": null,
   "id": "1e91eb08",
   "metadata": {},
   "outputs": [],
   "source": [
    "any(L3)"
   ]
  },
  {
   "cell_type": "code",
   "execution_count": null,
   "id": "a927779c",
   "metadata": {},
   "outputs": [],
   "source": [
    "l=[0,0,0]\n",
    "any(l)"
   ]
  },
  {
   "cell_type": "code",
   "execution_count": null,
   "id": "4ac3d86e",
   "metadata": {},
   "outputs": [],
   "source": [
    "all(l)"
   ]
  },
  {
   "cell_type": "code",
   "execution_count": null,
   "id": "3096aad9",
   "metadata": {
    "colab": {
     "base_uri": "https://localhost:8080/"
    },
    "executionInfo": {
     "elapsed": 3,
     "status": "ok",
     "timestamp": 1682647687239,
     "user": {
      "displayName": "Jitendra Rathod",
      "userId": "08588782662248261812"
     },
     "user_tz": -330
    },
    "id": "3096aad9",
    "outputId": "7e52841d-8f75-4838-cfd6-11af6ac6ae15"
   },
   "outputs": [],
   "source": [
    "L2  =  [\"a\", \"c\", \"d\",0]\n",
    "\n",
    "print(any(L2))\n",
    "\n",
    "print(all(L2))\n"
   ]
  },
  {
   "cell_type": "markdown",
   "id": "486a59cb",
   "metadata": {
    "id": "486a59cb"
   },
   "source": [
    "# Tuples"
   ]
  },
  {
   "cell_type": "raw",
   "id": "7d567fad",
   "metadata": {
    "id": "7d567fad"
   },
   "source": [
    "1.\tTuple is similar to List except that the objects in tuple are immutable - we cannot change the elements of a tuple once assigned.\n",
    "2.\tWhen we do not want to change the data over time, tuple is a preferred data type.\n",
    "3.\tIterating over the elements of a tuple is faster compared to iterating over a list.\n"
   ]
  },
  {
   "cell_type": "markdown",
   "id": "87a90b6f",
   "metadata": {
    "id": "87a90b6f"
   },
   "source": [
    "# Tuple Creation"
   ]
  },
  {
   "cell_type": "code",
   "execution_count": null,
   "id": "9b4a8d28",
   "metadata": {
    "id": "9b4a8d28"
   },
   "outputs": [],
   "source": [
    "tup1 = ()\t# Empty tuple"
   ]
  },
  {
   "cell_type": "code",
   "execution_count": null,
   "id": "15078c6f",
   "metadata": {},
   "outputs": [],
   "source": [
    "tup1"
   ]
  },
  {
   "cell_type": "code",
   "execution_count": null,
   "id": "90c39328",
   "metadata": {
    "colab": {
     "base_uri": "https://localhost:8080/"
    },
    "executionInfo": {
     "elapsed": 437,
     "status": "ok",
     "timestamp": 1682647950177,
     "user": {
      "displayName": "Jitendra Rathod",
      "userId": "08588782662248261812"
     },
     "user_tz": -330
    },
    "id": "90c39328",
    "outputId": "29d91073-8a5a-4a49-bd25-cf31e9793b63"
   },
   "outputs": [],
   "source": [
    "type(tup1)"
   ]
  },
  {
   "cell_type": "code",
   "execution_count": null,
   "id": "75afec1e",
   "metadata": {},
   "outputs": [],
   "source": [
    "t = tuple()\n",
    "type(t)"
   ]
  },
  {
   "cell_type": "code",
   "execution_count": null,
   "id": "b54396d4",
   "metadata": {
    "id": "b54396d4"
   },
   "outputs": [],
   "source": [
    "tup2  =  (10,30,60)\t#  tuple  of  integers  numbers"
   ]
  },
  {
   "cell_type": "code",
   "execution_count": null,
   "id": "46dd3cee",
   "metadata": {},
   "outputs": [],
   "source": [
    "print(tup2)\n",
    "print(type(tup2))"
   ]
  },
  {
   "cell_type": "code",
   "execution_count": null,
   "id": "d2dab20a",
   "metadata": {
    "id": "d2dab20a"
   },
   "outputs": [],
   "source": [
    "tup3 = (10.77,30.66,60.89)\t# tuple of float numbers"
   ]
  },
  {
   "cell_type": "code",
   "execution_count": null,
   "id": "4783658d",
   "metadata": {
    "id": "4783658d"
   },
   "outputs": [],
   "source": [
    "tup4 =  ('one','two' , \"three\")\t# tuple of strings"
   ]
  },
  {
   "cell_type": "code",
   "execution_count": null,
   "id": "1d826f25",
   "metadata": {
    "id": "1d826f25"
   },
   "outputs": [],
   "source": [
    "tup5  =  ('Data',  25  ,(50,  100),(150,  90))\t#  Nested  tuples"
   ]
  },
  {
   "cell_type": "code",
   "execution_count": null,
   "id": "7330bc0d",
   "metadata": {
    "id": "7330bc0d"
   },
   "outputs": [],
   "source": [
    "tup6  =  (100,  'Data',  17.765)\t#  Tuple  of  mixed  data  types"
   ]
  },
  {
   "cell_type": "code",
   "execution_count": null,
   "id": "19200835",
   "metadata": {
    "id": "19200835"
   },
   "outputs": [],
   "source": [
    "tup7  =  ('Data',  25  ,[50,  100],[150,  90]  ,  ['John'  ,  'David']  ,\n",
    "          (99,22,33))"
   ]
  },
  {
   "cell_type": "code",
   "execution_count": null,
   "id": "c4ec698b",
   "metadata": {},
   "outputs": [],
   "source": [
    "tup7"
   ]
  },
  {
   "cell_type": "code",
   "execution_count": null,
   "id": "0b6a29ca",
   "metadata": {},
   "outputs": [],
   "source": [
    "tup7[5][1]"
   ]
  },
  {
   "cell_type": "code",
   "execution_count": null,
   "id": "7b622f86",
   "metadata": {
    "colab": {
     "base_uri": "https://localhost:8080/"
    },
    "executionInfo": {
     "elapsed": 3,
     "status": "ok",
     "timestamp": 1682648202607,
     "user": {
      "displayName": "Jitendra Rathod",
      "userId": "08588782662248261812"
     },
     "user_tz": -330
    },
    "id": "7b622f86",
    "outputId": "e323befd-6181-4cc9-f406-cfc9a97a7979"
   },
   "outputs": [],
   "source": [
    "len(tup7) #Length of tuple"
   ]
  },
  {
   "cell_type": "code",
   "execution_count": null,
   "id": "bed28f3a",
   "metadata": {},
   "outputs": [],
   "source": [
    "print(tup2)\n",
    "print(tup3)\n",
    "print(tup4,tup5)\n",
    "print(tup6,tup7)"
   ]
  },
  {
   "cell_type": "markdown",
   "id": "4da5ffe5",
   "metadata": {
    "id": "4da5ffe5"
   },
   "source": [
    "## Tuple Indexing"
   ]
  },
  {
   "cell_type": "code",
   "execution_count": null,
   "id": "f282a2ad",
   "metadata": {},
   "outputs": [],
   "source": [
    "tup2"
   ]
  },
  {
   "cell_type": "code",
   "execution_count": null,
   "id": "4403999d",
   "metadata": {
    "colab": {
     "base_uri": "https://localhost:8080/"
    },
    "executionInfo": {
     "elapsed": 1005,
     "status": "ok",
     "timestamp": 1682648289733,
     "user": {
      "displayName": "Jitendra Rathod",
      "userId": "08588782662248261812"
     },
     "user_tz": -330
    },
    "id": "4403999d",
    "outputId": "fc5a5b1b-5ae3-4662-b366-67a5f4c55799"
   },
   "outputs": [],
   "source": [
    "tup2[1]"
   ]
  },
  {
   "cell_type": "code",
   "execution_count": null,
   "id": "0e3b98eb",
   "metadata": {
    "id": "0e3b98eb"
   },
   "outputs": [],
   "source": [
    "tup2 = (5,8,'apple', 10, True)"
   ]
  },
  {
   "cell_type": "code",
   "execution_count": null,
   "id": "9a4c2b36",
   "metadata": {
    "colab": {
     "base_uri": "https://localhost:8080/"
    },
    "executionInfo": {
     "elapsed": 1265,
     "status": "ok",
     "timestamp": 1682648501985,
     "user": {
      "displayName": "Jitendra Rathod",
      "userId": "08588782662248261812"
     },
     "user_tz": -330
    },
    "id": "9a4c2b36",
    "outputId": "afb8ed40-56be-432a-f03b-1398fae402b5"
   },
   "outputs": [],
   "source": [
    "tup2[0:3]  #  Retreive  first 3 element  of  the  tuple"
   ]
  },
  {
   "cell_type": "code",
   "execution_count": null,
   "id": "65ea6bb8",
   "metadata": {
    "id": "65ea6bb8"
   },
   "outputs": [],
   "source": [
    "tup8=('Data', 25, [50, 100], [150, 90], ['David', 'John'], (99, 22, 33))"
   ]
  },
  {
   "cell_type": "code",
   "execution_count": null,
   "id": "5c7f2dc4",
   "metadata": {},
   "outputs": [],
   "source": [
    "tup8"
   ]
  },
  {
   "cell_type": "code",
   "execution_count": null,
   "id": "3d883973",
   "metadata": {},
   "outputs": [],
   "source": [
    "tup8[2][1]"
   ]
  },
  {
   "cell_type": "code",
   "execution_count": null,
   "id": "d7ebc870",
   "metadata": {},
   "outputs": [],
   "source": [
    "tup8[5][1]"
   ]
  },
  {
   "cell_type": "code",
   "execution_count": null,
   "id": "c0d7301f",
   "metadata": {},
   "outputs": [],
   "source": [
    "tup8.index(25)"
   ]
  },
  {
   "cell_type": "markdown",
   "id": "eb883e32",
   "metadata": {
    "id": "eb883e32"
   },
   "source": [
    "## Tuple Slicing"
   ]
  },
  {
   "cell_type": "code",
   "execution_count": null,
   "id": "91efac69",
   "metadata": {
    "id": "91efac69"
   },
   "outputs": [],
   "source": [
    "mytuple = ('one' , 'two' , 'three' ,\n",
    "           'four' , 'five' , 'six' , 'seven' , 'eight')"
   ]
  },
  {
   "cell_type": "code",
   "execution_count": null,
   "id": "c93c1ff3",
   "metadata": {
    "colab": {
     "base_uri": "https://localhost:8080/"
    },
    "executionInfo": {
     "elapsed": 421,
     "status": "ok",
     "timestamp": 1682648894229,
     "user": {
      "displayName": "Jitendra Rathod",
      "userId": "08588782662248261812"
     },
     "user_tz": -330
    },
    "id": "c93c1ff3",
    "outputId": "37509228-56d2-4564-ba49-f5975f8f9182"
   },
   "outputs": [],
   "source": [
    "mytuple[0::2]  #  Return  all  items  from  0th  to\n",
    "#3rd  index  location  excluding  the  upper limit"
   ]
  },
  {
   "cell_type": "markdown",
   "id": "d15ede0c",
   "metadata": {
    "id": "d15ede0c"
   },
   "source": [
    "## Remove & Change Items"
   ]
  },
  {
   "cell_type": "code",
   "execution_count": null,
   "id": "4561b13d",
   "metadata": {},
   "outputs": [],
   "source": [
    "mytuple"
   ]
  },
  {
   "cell_type": "code",
   "execution_count": null,
   "id": "e620b090",
   "metadata": {
    "colab": {
     "base_uri": "https://localhost:8080/",
     "height": 189
    },
    "executionInfo": {
     "elapsed": 5,
     "status": "error",
     "timestamp": 1682648977065,
     "user": {
      "displayName": "Jitendra Rathod",
      "userId": "08588782662248261812"
     },
     "user_tz": -330
    },
    "id": "e620b090",
    "outputId": "efab31dd-467b-41e2-bf75-746b188851ad"
   },
   "outputs": [],
   "source": [
    "del  mytuple[0]\n",
    "#  Tuples  are  immutable  which  means  we  can't  DELETE  tuple  items"
   ]
  },
  {
   "cell_type": "code",
   "execution_count": null,
   "id": "d04193ac",
   "metadata": {
    "id": "d04193ac"
   },
   "outputs": [],
   "source": [
    "mytuple[0]  =  1\n",
    "#  Tuples  are  immutable  which  means  we  can't  CHANGE  tuple  items"
   ]
  },
  {
   "cell_type": "code",
   "execution_count": null,
   "id": "024501f9",
   "metadata": {},
   "outputs": [],
   "source": [
    "mytuple.remove('two')"
   ]
  },
  {
   "cell_type": "code",
   "execution_count": null,
   "id": "8f68e70c",
   "metadata": {
    "id": "8f68e70c"
   },
   "outputs": [],
   "source": [
    "del mytuple\n",
    "# Deleting entire tuple object is possible"
   ]
  },
  {
   "cell_type": "code",
   "execution_count": null,
   "id": "b0510f9a",
   "metadata": {
    "colab": {
     "base_uri": "https://localhost:8080/",
     "height": 171
    },
    "executionInfo": {
     "elapsed": 5,
     "status": "error",
     "timestamp": 1682649457765,
     "user": {
      "displayName": "Jitendra Rathod",
      "userId": "08588782662248261812"
     },
     "user_tz": -330
    },
    "id": "b0510f9a",
    "outputId": "054f9cd1-07c0-42f8-f379-5d6c6e54f73b"
   },
   "outputs": [],
   "source": [
    "mytuple"
   ]
  },
  {
   "cell_type": "markdown",
   "id": "3cfc3337",
   "metadata": {
    "id": "3cfc3337"
   },
   "source": [
    "## Count"
   ]
  },
  {
   "cell_type": "code",
   "execution_count": null,
   "id": "493a5cd5",
   "metadata": {
    "id": "493a5cd5"
   },
   "outputs": [],
   "source": [
    "mytuple1  =('one',  'two',  'three',  'four',  'one',\n",
    "            'one',  'two',  'three')"
   ]
  },
  {
   "cell_type": "code",
   "execution_count": null,
   "id": "f23935d6",
   "metadata": {
    "colab": {
     "base_uri": "https://localhost:8080/"
    },
    "executionInfo": {
     "elapsed": 7,
     "status": "ok",
     "timestamp": 1682649529380,
     "user": {
      "displayName": "Jitendra Rathod",
      "userId": "08588782662248261812"
     },
     "user_tz": -330
    },
    "id": "f23935d6",
    "outputId": "7fe58b1b-e31e-4bf2-fdfb-e8cf98575b1f"
   },
   "outputs": [],
   "source": [
    "mytuple1.count('one') # Number of times item \"one\"\n",
    "# occurred in the tuple."
   ]
  },
  {
   "cell_type": "code",
   "execution_count": null,
   "id": "344557ff",
   "metadata": {
    "colab": {
     "base_uri": "https://localhost:8080/"
    },
    "executionInfo": {
     "elapsed": 418,
     "status": "ok",
     "timestamp": 1682649649411,
     "user": {
      "displayName": "Jitendra Rathod",
      "userId": "08588782662248261812"
     },
     "user_tz": -330
    },
    "id": "344557ff",
    "outputId": "38ac595c-0feb-4f14-e043-42a4d8082378"
   },
   "outputs": [],
   "source": [
    "mytuple1.index('two') ## it will give first index location"
   ]
  },
  {
   "cell_type": "markdown",
   "id": "561ee223",
   "metadata": {
    "id": "561ee223"
   },
   "source": [
    "## Tuple Membership"
   ]
  },
  {
   "cell_type": "code",
   "execution_count": null,
   "id": "3b509966",
   "metadata": {},
   "outputs": [],
   "source": [
    "mytuple1"
   ]
  },
  {
   "cell_type": "code",
   "execution_count": null,
   "id": "c598e898",
   "metadata": {
    "colab": {
     "base_uri": "https://localhost:8080/"
    },
    "executionInfo": {
     "elapsed": 405,
     "status": "ok",
     "timestamp": 1682649812606,
     "user": {
      "displayName": "Jitendra Rathod",
      "userId": "08588782662248261812"
     },
     "user_tz": -330
    },
    "id": "c598e898",
    "outputId": "265c39ad-ea81-4e1a-b6a5-3261644d00e9"
   },
   "outputs": [],
   "source": [
    "'80'  in mytuple1 # Check if 80 exist in the tuple"
   ]
  },
  {
   "cell_type": "markdown",
   "id": "07f9da09",
   "metadata": {
    "id": "07f9da09"
   },
   "source": [
    "## Sorting"
   ]
  },
  {
   "cell_type": "code",
   "execution_count": null,
   "id": "5afd12a0",
   "metadata": {
    "id": "5afd12a0"
   },
   "outputs": [],
   "source": [
    "mytuple2  =  (43,67,99,12,6,90,67)"
   ]
  },
  {
   "cell_type": "code",
   "execution_count": null,
   "id": "c5478d61",
   "metadata": {},
   "outputs": [],
   "source": [
    "mytuple2"
   ]
  },
  {
   "cell_type": "code",
   "execution_count": null,
   "id": "ce73fc4a",
   "metadata": {},
   "outputs": [],
   "source": [
    "type(mytuple2)"
   ]
  },
  {
   "cell_type": "code",
   "execution_count": null,
   "id": "9390d830",
   "metadata": {
    "id": "9390d830"
   },
   "outputs": [],
   "source": [
    "sorted(mytuple2)\t# Returns a new sorted list and doesn't change original tuple"
   ]
  },
  {
   "cell_type": "code",
   "execution_count": null,
   "id": "e79cb32a",
   "metadata": {
    "id": "e79cb32a"
   },
   "outputs": [],
   "source": [
    "sorted(mytuple2, reverse=True) # Sort in descending order"
   ]
  },
  {
   "cell_type": "code",
   "execution_count": null,
   "id": "9049c76f",
   "metadata": {
    "id": "9049c76f"
   },
   "outputs": [],
   "source": [
    "mytuple2"
   ]
  },
  {
   "cell_type": "markdown",
   "id": "9f93e937",
   "metadata": {
    "id": "9f93e937"
   },
   "source": [
    "# Sets\n"
   ]
  },
  {
   "cell_type": "raw",
   "id": "d70a4804",
   "metadata": {
    "id": "d70a4804"
   },
   "source": [
    "1)\tUnordered & Unindexed collection of items.\n",
    "\n",
    "2)\tSet elements are unique. Duplicate elements are not allowed.\n"
   ]
  },
  {
   "cell_type": "markdown",
   "id": "596a1f30",
   "metadata": {
    "id": "596a1f30"
   },
   "source": [
    "## Set Creation"
   ]
  },
  {
   "cell_type": "code",
   "execution_count": null,
   "id": "09e8e959",
   "metadata": {
    "id": "09e8e959"
   },
   "outputs": [],
   "source": [
    "myset1={} # Empty set cannot be created by curly braces"
   ]
  },
  {
   "cell_type": "code",
   "execution_count": null,
   "id": "11457eba",
   "metadata": {},
   "outputs": [],
   "source": [
    "myset1"
   ]
  },
  {
   "cell_type": "code",
   "execution_count": null,
   "id": "05fa1815",
   "metadata": {
    "colab": {
     "base_uri": "https://localhost:8080/"
    },
    "executionInfo": {
     "elapsed": 682,
     "status": "ok",
     "timestamp": 1682650319444,
     "user": {
      "displayName": "Jitendra Rathod",
      "userId": "08588782662248261812"
     },
     "user_tz": -330
    },
    "id": "05fa1815",
    "outputId": "ecca0dda-55a5-4139-e164-2ca4abc9e549"
   },
   "outputs": [],
   "source": [
    "type(myset1)"
   ]
  },
  {
   "cell_type": "code",
   "execution_count": null,
   "id": "e8d81450",
   "metadata": {
    "colab": {
     "base_uri": "https://localhost:8080/"
    },
    "executionInfo": {
     "elapsed": 419,
     "status": "ok",
     "timestamp": 1682650427802,
     "user": {
      "displayName": "Jitendra Rathod",
      "userId": "08588782662248261812"
     },
     "user_tz": -330
    },
    "id": "e8d81450",
    "outputId": "a97f6e32-13a8-4a7c-8be0-a2bf8beba3f2"
   },
   "outputs": [],
   "source": [
    "myset = set() # Create an empty set\n",
    "#print(type(myset))\n",
    "myset"
   ]
  },
  {
   "cell_type": "code",
   "execution_count": null,
   "id": "e1fb1a6b",
   "metadata": {},
   "outputs": [],
   "source": [
    "type(myset)"
   ]
  },
  {
   "cell_type": "code",
   "execution_count": null,
   "id": "32d43fc8",
   "metadata": {
    "colab": {
     "base_uri": "https://localhost:8080/"
    },
    "executionInfo": {
     "elapsed": 418,
     "status": "ok",
     "timestamp": 1682650440692,
     "user": {
      "displayName": "Jitendra Rathod",
      "userId": "08588782662248261812"
     },
     "user_tz": -330
    },
    "id": "32d43fc8",
    "outputId": "a81db260-9fe6-4b7c-e732-254c01a24413"
   },
   "outputs": [],
   "source": [
    "myset  =  {1,2,3,4,5}  #  Set  of  numbers\n",
    "myset"
   ]
  },
  {
   "cell_type": "code",
   "execution_count": null,
   "id": "73375211",
   "metadata": {
    "colab": {
     "base_uri": "https://localhost:8080/"
    },
    "executionInfo": {
     "elapsed": 1454,
     "status": "ok",
     "timestamp": 1682650448652,
     "user": {
      "displayName": "Jitendra Rathod",
      "userId": "08588782662248261812"
     },
     "user_tz": -330
    },
    "id": "73375211",
    "outputId": "225e87c3-c9e1-4f76-e233-1bebc89cc2de"
   },
   "outputs": [],
   "source": [
    "type(myset)"
   ]
  },
  {
   "cell_type": "code",
   "execution_count": null,
   "id": "49da6e3d",
   "metadata": {
    "colab": {
     "base_uri": "https://localhost:8080/"
    },
    "executionInfo": {
     "elapsed": 436,
     "status": "ok",
     "timestamp": 1682650451680,
     "user": {
      "displayName": "Jitendra Rathod",
      "userId": "08588782662248261812"
     },
     "user_tz": -330
    },
    "id": "49da6e3d",
    "outputId": "4c481cf0-85b0-4c61-de53-eadb0527f03b"
   },
   "outputs": [],
   "source": [
    "len(myset) #Length or number of elements of the set"
   ]
  },
  {
   "cell_type": "code",
   "execution_count": null,
   "id": "3b6b7916",
   "metadata": {
    "colab": {
     "base_uri": "https://localhost:8080/"
    },
    "executionInfo": {
     "elapsed": 27,
     "status": "ok",
     "timestamp": 1682650476243,
     "user": {
      "displayName": "Jitendra Rathod",
      "userId": "08588782662248261812"
     },
     "user_tz": -330
    },
    "id": "3b6b7916",
    "outputId": "99b05c8d-cbc0-4abb-fcab-5c6360056246"
   },
   "outputs": [],
   "source": [
    "my_set  =  {1,1,2,2,3,4,5,5}\n",
    "my_set\t# Duplicate elements are not allowed."
   ]
  },
  {
   "cell_type": "code",
   "execution_count": null,
   "id": "36fa0643",
   "metadata": {
    "colab": {
     "base_uri": "https://localhost:8080/"
    },
    "executionInfo": {
     "elapsed": 393,
     "status": "ok",
     "timestamp": 1682650548985,
     "user": {
      "displayName": "Jitendra Rathod",
      "userId": "08588782662248261812"
     },
     "user_tz": -330
    },
    "id": "36fa0643",
    "outputId": "e24b12b5-d2dc-4742-ae25-0f1606e7394c"
   },
   "outputs": [],
   "source": [
    "myset1 = {1.79,2.08,3.99,4.56,5.45} # Set of float numbers\n",
    "myset1\n"
   ]
  },
  {
   "cell_type": "code",
   "execution_count": null,
   "id": "69b7216d",
   "metadata": {
    "colab": {
     "base_uri": "https://localhost:8080/"
    },
    "executionInfo": {
     "elapsed": 19,
     "status": "ok",
     "timestamp": 1682650558980,
     "user": {
      "displayName": "Jitendra Rathod",
      "userId": "08588782662248261812"
     },
     "user_tz": -330
    },
    "id": "69b7216d",
    "outputId": "8d6afccd-960c-4949-963c-521801438b8a"
   },
   "outputs": [],
   "source": [
    "myset2 = {'Data' , 'John' , 'Tyrion','John'} # Set of Strings\n",
    "myset2\n"
   ]
  },
  {
   "cell_type": "code",
   "execution_count": null,
   "id": "a875fc83",
   "metadata": {
    "colab": {
     "base_uri": "https://localhost:8080/"
    },
    "executionInfo": {
     "elapsed": 401,
     "status": "ok",
     "timestamp": 1682650617261,
     "user": {
      "displayName": "Jitendra Rathod",
      "userId": "08588782662248261812"
     },
     "user_tz": -330
    },
    "id": "a875fc83",
    "outputId": "62b6d1ac-8f0a-4100-d2ab-48c0976ae77a"
   },
   "outputs": [],
   "source": [
    "myset3  =  {(11,  22,  32),10,20,  \"Hola\" }  #  Mixed  datatypes\n",
    "myset3\n"
   ]
  },
  {
   "cell_type": "markdown",
   "id": "9d8df5f3",
   "metadata": {
    "id": "9d8df5f3"
   },
   "source": [
    "## Set Membership"
   ]
  },
  {
   "cell_type": "code",
   "execution_count": null,
   "id": "c0166c9b",
   "metadata": {
    "id": "c0166c9b"
   },
   "outputs": [],
   "source": [
    "myset = {'one', 'two', 'three', 'four', 'five', 'six',\n",
    "         'seven', 'eight'}"
   ]
  },
  {
   "cell_type": "code",
   "execution_count": null,
   "id": "a7b305fe",
   "metadata": {
    "colab": {
     "base_uri": "https://localhost:8080/"
    },
    "executionInfo": {
     "elapsed": 8,
     "status": "ok",
     "timestamp": 1682650975020,
     "user": {
      "displayName": "Jitendra Rathod",
      "userId": "08588782662248261812"
     },
     "user_tz": -330
    },
    "id": "a7b305fe",
    "outputId": "a90e39b5-6f21-4a29-b2f5-09b05970cae2"
   },
   "outputs": [],
   "source": [
    "myset"
   ]
  },
  {
   "cell_type": "code",
   "execution_count": null,
   "id": "70cf4fb0",
   "metadata": {
    "colab": {
     "base_uri": "https://localhost:8080/"
    },
    "executionInfo": {
     "elapsed": 3,
     "status": "ok",
     "timestamp": 1682650977297,
     "user": {
      "displayName": "Jitendra Rathod",
      "userId": "08588782662248261812"
     },
     "user_tz": -330
    },
    "id": "70cf4fb0",
    "outputId": "fb9c19db-af22-4f71-d18b-443cbb687939"
   },
   "outputs": [],
   "source": [
    "'nine' in myset # Check if 'nine' exist in the set"
   ]
  },
  {
   "cell_type": "markdown",
   "id": "ad563622",
   "metadata": {
    "id": "ad563622"
   },
   "source": [
    "## Add & Remove Items"
   ]
  },
  {
   "cell_type": "code",
   "execution_count": null,
   "id": "f1bc84c8",
   "metadata": {
    "id": "f1bc84c8"
   },
   "outputs": [],
   "source": [
    "myset={2,3,4}"
   ]
  },
  {
   "cell_type": "code",
   "execution_count": null,
   "id": "c6a5dd03",
   "metadata": {
    "colab": {
     "base_uri": "https://localhost:8080/"
    },
    "executionInfo": {
     "elapsed": 14,
     "status": "ok",
     "timestamp": 1682651047073,
     "user": {
      "displayName": "Jitendra Rathod",
      "userId": "08588782662248261812"
     },
     "user_tz": -330
    },
    "id": "c6a5dd03",
    "outputId": "7134fbf2-1613-455a-b238-27e0b0697d77"
   },
   "outputs": [],
   "source": [
    "myset.add('9')  #  Add  item  to  a  set  using  add()  method\n",
    "myset\n"
   ]
  },
  {
   "cell_type": "code",
   "execution_count": null,
   "id": "e5414f25",
   "metadata": {},
   "outputs": [],
   "source": [
    "myset.add(0.9)\n",
    "myset"
   ]
  },
  {
   "cell_type": "code",
   "execution_count": null,
   "id": "ac233426",
   "metadata": {
    "colab": {
     "base_uri": "https://localhost:8080/",
     "height": 171
    },
    "executionInfo": {
     "elapsed": 551,
     "status": "error",
     "timestamp": 1682651062832,
     "user": {
      "displayName": "Jitendra Rathod",
      "userId": "08588782662248261812"
     },
     "user_tz": -330
    },
    "id": "ac233426",
    "outputId": "d340668f-7ad1-4a07-b008-c6e0f3b4d75f"
   },
   "outputs": [],
   "source": [
    "myset[1] ## Indexing not supported in sets"
   ]
  },
  {
   "cell_type": "code",
   "execution_count": null,
   "id": "9b7445df",
   "metadata": {
    "colab": {
     "base_uri": "https://localhost:8080/"
    },
    "executionInfo": {
     "elapsed": 436,
     "status": "ok",
     "timestamp": 1682651197988,
     "user": {
      "displayName": "Jitendra Rathod",
      "userId": "08588782662248261812"
     },
     "user_tz": -330
    },
    "id": "9b7445df",
    "outputId": "7de2084b-1464-4f1c-820b-358d6038e82e"
   },
   "outputs": [],
   "source": [
    "myset.update(['TEN' , 'ELEVEN' , 'TWELVE'])\t# Add multiple item to a set using\n",
    "myset\n"
   ]
  },
  {
   "cell_type": "code",
   "execution_count": null,
   "id": "b2ec8ebb",
   "metadata": {},
   "outputs": [],
   "source": [
    "#delete random element\n",
    "myset.pop()"
   ]
  },
  {
   "cell_type": "code",
   "execution_count": null,
   "id": "58507899",
   "metadata": {
    "colab": {
     "base_uri": "https://localhost:8080/"
    },
    "executionInfo": {
     "elapsed": 5,
     "status": "ok",
     "timestamp": 1682651242643,
     "user": {
      "displayName": "Jitendra Rathod",
      "userId": "08588782662248261812"
     },
     "user_tz": -330
    },
    "id": "58507899",
    "outputId": "5c613e05-d1ca-41d2-abc0-252a7da6a64b"
   },
   "outputs": [],
   "source": [
    "myset.remove(2)  #  remove  item  in  a  set  using  remove()  method\n",
    "myset\n"
   ]
  },
  {
   "cell_type": "code",
   "execution_count": null,
   "id": "d629656a",
   "metadata": {
    "colab": {
     "base_uri": "https://localhost:8080/"
    },
    "executionInfo": {
     "elapsed": 452,
     "status": "ok",
     "timestamp": 1682651282321,
     "user": {
      "displayName": "Jitendra Rathod",
      "userId": "08588782662248261812"
     },
     "user_tz": -330
    },
    "id": "d629656a",
    "outputId": "32c394e5-c1e4-42cd-fc1c-fe637f05210e"
   },
   "outputs": [],
   "source": [
    "myset.discard('9') # remove item from a set using discard() method\n",
    "myset"
   ]
  },
  {
   "cell_type": "code",
   "execution_count": null,
   "id": "416ddde3",
   "metadata": {
    "colab": {
     "base_uri": "https://localhost:8080/"
    },
    "executionInfo": {
     "elapsed": 532,
     "status": "ok",
     "timestamp": 1682651328330,
     "user": {
      "displayName": "Jitendra Rathod",
      "userId": "08588782662248261812"
     },
     "user_tz": -330
    },
    "id": "416ddde3",
    "outputId": "4e5cfae4-1cf5-47ee-ef05-1421a19bf8d2"
   },
   "outputs": [],
   "source": [
    "myset.clear() # Delete all items in a set\n",
    "myset"
   ]
  },
  {
   "cell_type": "code",
   "execution_count": null,
   "id": "e58c0bea",
   "metadata": {},
   "outputs": [],
   "source": [
    "myset"
   ]
  },
  {
   "cell_type": "code",
   "execution_count": null,
   "id": "24506165",
   "metadata": {
    "id": "24506165"
   },
   "outputs": [],
   "source": [
    "del myset # Delete the set object"
   ]
  },
  {
   "cell_type": "code",
   "execution_count": null,
   "id": "1d1aa633",
   "metadata": {
    "colab": {
     "base_uri": "https://localhost:8080/",
     "height": 171
    },
    "executionInfo": {
     "elapsed": 522,
     "status": "error",
     "timestamp": 1682651361953,
     "user": {
      "displayName": "Jitendra Rathod",
      "userId": "08588782662248261812"
     },
     "user_tz": -330
    },
    "id": "1d1aa633",
    "outputId": "5e30523a-de6d-40d2-80fa-a52b23c2c5b3"
   },
   "outputs": [],
   "source": [
    "myset"
   ]
  },
  {
   "cell_type": "markdown",
   "id": "a46a7b1e",
   "metadata": {
    "id": "a46a7b1e"
   },
   "source": [
    "## Set Operation"
   ]
  },
  {
   "cell_type": "code",
   "execution_count": 1,
   "id": "986a8ead",
   "metadata": {
    "id": "986a8ead"
   },
   "outputs": [],
   "source": [
    "A  =  {1,2,3,4,5}\n",
    "B  =  {4,5,6,7,8}\n",
    "C  =  {8,9,10}"
   ]
  },
  {
   "cell_type": "code",
   "execution_count": 2,
   "id": "a991056f",
   "metadata": {
    "colab": {
     "base_uri": "https://localhost:8080/"
    },
    "executionInfo": {
     "elapsed": 3,
     "status": "ok",
     "timestamp": 1682651650513,
     "user": {
      "displayName": "Jitendra Rathod",
      "userId": "08588782662248261812"
     },
     "user_tz": -330
    },
    "id": "a991056f",
    "outputId": "d730c985-ed91-4bcf-a814-5cea08e5e78b"
   },
   "outputs": [
    {
     "data": {
      "text/plain": [
       "{1, 2, 3, 4, 5, 6, 7, 8}"
      ]
     },
     "execution_count": 2,
     "metadata": {},
     "output_type": "execute_result"
    }
   ],
   "source": [
    "A.union(B)  #  Union  of  A  and  B"
   ]
  },
  {
   "cell_type": "code",
   "execution_count": 3,
   "id": "646b5111",
   "metadata": {
    "colab": {
     "base_uri": "https://localhost:8080/"
    },
    "executionInfo": {
     "elapsed": 420,
     "status": "ok",
     "timestamp": 1682651654665,
     "user": {
      "displayName": "Jitendra Rathod",
      "userId": "08588782662248261812"
     },
     "user_tz": -330
    },
    "id": "646b5111",
    "outputId": "f617bd83-4db1-4061-888a-0185c33613f2"
   },
   "outputs": [
    {
     "data": {
      "text/plain": [
       "{1, 2, 3, 4, 5, 6, 7, 8}"
      ]
     },
     "execution_count": 3,
     "metadata": {},
     "output_type": "execute_result"
    }
   ],
   "source": [
    "B.union(A)"
   ]
  },
  {
   "cell_type": "code",
   "execution_count": 4,
   "id": "48e9b305",
   "metadata": {},
   "outputs": [
    {
     "name": "stdout",
     "output_type": "stream",
     "text": [
      "{1, 2, 3, 4, 5, 6, 7, 8}\n"
     ]
    }
   ],
   "source": [
    "print(A | B) # using OR operator"
   ]
  },
  {
   "cell_type": "code",
   "execution_count": 5,
   "id": "6718de09",
   "metadata": {
    "colab": {
     "base_uri": "https://localhost:8080/"
    },
    "executionInfo": {
     "elapsed": 419,
     "status": "ok",
     "timestamp": 1680703967780,
     "user": {
      "displayName": "Jitendra Rathod",
      "userId": "08588782662248261812"
     },
     "user_tz": -330
    },
    "id": "6718de09",
    "outputId": "be32a88c-470a-4076-9939-bbc8389dc523"
   },
   "outputs": [
    {
     "data": {
      "text/plain": [
       "{1, 2, 3, 4, 5, 6, 7, 8, 9, 10}"
      ]
     },
     "execution_count": 5,
     "metadata": {},
     "output_type": "execute_result"
    }
   ],
   "source": [
    "A.union(B,C)\t#  Union  of  A,  B  and  C."
   ]
  },
  {
   "cell_type": "code",
   "execution_count": 6,
   "id": "56439fe0",
   "metadata": {
    "id": "56439fe0"
   },
   "outputs": [],
   "source": [
    "A  =  {1,2,3,4,5}\n",
    "B  =  {4,5,6,7,8}"
   ]
  },
  {
   "cell_type": "code",
   "execution_count": 7,
   "id": "5dafdf1a",
   "metadata": {
    "colab": {
     "base_uri": "https://localhost:8080/"
    },
    "executionInfo": {
     "elapsed": 419,
     "status": "ok",
     "timestamp": 1682651775076,
     "user": {
      "displayName": "Jitendra Rathod",
      "userId": "08588782662248261812"
     },
     "user_tz": -330
    },
    "id": "5dafdf1a",
    "outputId": "f147e648-e0f8-4a7b-d121-0ee1756bdd76"
   },
   "outputs": [
    {
     "data": {
      "text/plain": [
       "{4, 5}"
      ]
     },
     "execution_count": 7,
     "metadata": {},
     "output_type": "execute_result"
    }
   ],
   "source": [
    "A.intersection(B)  #Intersection  of  A  and  B"
   ]
  },
  {
   "cell_type": "code",
   "execution_count": 8,
   "id": "bab025df",
   "metadata": {
    "collapsed": true
   },
   "outputs": [
    {
     "name": "stdout",
     "output_type": "stream",
     "text": [
      "{4, 5}\n"
     ]
    }
   ],
   "source": [
    "print(A & B)"
   ]
  },
  {
   "cell_type": "code",
   "execution_count": 9,
   "id": "feb44c41",
   "metadata": {
    "colab": {
     "base_uri": "https://localhost:8080/"
    },
    "collapsed": true,
    "executionInfo": {
     "elapsed": 3,
     "status": "ok",
     "timestamp": 1680703985734,
     "user": {
      "displayName": "Jitendra Rathod",
      "userId": "08588782662248261812"
     },
     "user_tz": -330
    },
    "id": "feb44c41",
    "outputId": "335a58ed-6a8e-4b63-b4f9-fa227b252fda"
   },
   "outputs": [
    {
     "data": {
      "text/plain": [
       "{1, 2, 3}"
      ]
     },
     "execution_count": 9,
     "metadata": {},
     "output_type": "execute_result"
    }
   ],
   "source": [
    "A.difference(B)  #  Difference  of set. set of elements that are only in A \n",
    "#but not in B"
   ]
  },
  {
   "cell_type": "code",
   "execution_count": 10,
   "id": "0aa61b9d",
   "metadata": {
    "colab": {
     "base_uri": "https://localhost:8080/"
    },
    "collapsed": true,
    "executionInfo": {
     "elapsed": 383,
     "status": "ok",
     "timestamp": 1680704035128,
     "user": {
      "displayName": "Jitendra Rathod",
      "userId": "08588782662248261812"
     },
     "user_tz": -330
    },
    "id": "0aa61b9d",
    "outputId": "e4c9bb6b-8983-420d-8ae1-92dd040106e0"
   },
   "outputs": [
    {
     "data": {
      "text/plain": [
       "{6, 7, 8}"
      ]
     },
     "execution_count": 10,
     "metadata": {},
     "output_type": "execute_result"
    }
   ],
   "source": [
    "B.difference(A) #  set  of  elements  that  are  only  in  B  but  not  in  A"
   ]
  },
  {
   "cell_type": "markdown",
   "id": "abf69658",
   "metadata": {
    "id": "abf69658"
   },
   "source": [
    "# Dictionary"
   ]
  },
  {
   "cell_type": "raw",
   "id": "a7cf0283",
   "metadata": {
    "id": "05b3ae17"
   },
   "source": [
    "Dictionary is a mutable data type in Python.\n",
    "A python dictionary is a collection of key and value pairs separated by a colon (:) & enclosed in curly braces {}.\n",
    "Keys must be unique in a dictionary, duplicate values are allowed\n"
   ]
  },
  {
   "cell_type": "markdown",
   "id": "dde5b0c8",
   "metadata": {
    "id": "dde5b0c8"
   },
   "source": [
    "## Create Dictionary"
   ]
  },
  {
   "cell_type": "code",
   "execution_count": 11,
   "id": "bdba10b6",
   "metadata": {},
   "outputs": [],
   "source": [
    "d={}"
   ]
  },
  {
   "cell_type": "code",
   "execution_count": 12,
   "id": "588c9a29",
   "metadata": {},
   "outputs": [
    {
     "data": {
      "text/plain": [
       "dict"
      ]
     },
     "execution_count": 12,
     "metadata": {},
     "output_type": "execute_result"
    }
   ],
   "source": [
    "type(d)"
   ]
  },
  {
   "cell_type": "code",
   "execution_count": 13,
   "id": "872084fe",
   "metadata": {
    "colab": {
     "base_uri": "https://localhost:8080/"
    },
    "collapsed": true,
    "executionInfo": {
     "elapsed": 1153,
     "status": "ok",
     "timestamp": 1682652246489,
     "user": {
      "displayName": "Jitendra Rathod",
      "userId": "08588782662248261812"
     },
     "user_tz": -330
    },
    "id": "872084fe",
    "outputId": "f9ba6543-46d6-4b35-f705-e73bff02c316"
   },
   "outputs": [
    {
     "data": {
      "text/plain": [
       "{}"
      ]
     },
     "execution_count": 13,
     "metadata": {},
     "output_type": "execute_result"
    }
   ],
   "source": [
    "mydict = dict() # empty dictionary\n",
    "mydict\n"
   ]
  },
  {
   "cell_type": "code",
   "execution_count": 14,
   "id": "8d11a2cd",
   "metadata": {
    "colab": {
     "base_uri": "https://localhost:8080/"
    },
    "collapsed": true,
    "executionInfo": {
     "elapsed": 2,
     "status": "ok",
     "timestamp": 1682652249418,
     "user": {
      "displayName": "Jitendra Rathod",
      "userId": "08588782662248261812"
     },
     "user_tz": -330
    },
    "id": "8d11a2cd",
    "outputId": "12cbcb7c-65fc-45f3-e453-693156228693"
   },
   "outputs": [
    {
     "data": {
      "text/plain": [
       "dict"
      ]
     },
     "execution_count": 14,
     "metadata": {},
     "output_type": "execute_result"
    }
   ],
   "source": [
    "type(mydict)"
   ]
  },
  {
   "cell_type": "code",
   "execution_count": 15,
   "id": "2e3cbd3c",
   "metadata": {
    "colab": {
     "base_uri": "https://localhost:8080/"
    },
    "collapsed": true,
    "executionInfo": {
     "elapsed": 408,
     "status": "ok",
     "timestamp": 1682652372254,
     "user": {
      "displayName": "Jitendra Rathod",
      "userId": "08588782662248261812"
     },
     "user_tz": -330
    },
    "id": "2e3cbd3c",
    "outputId": "b899f15a-4e54-4e0f-f3dc-6c8e16f80fe3"
   },
   "outputs": [
    {
     "data": {
      "text/plain": [
       "{1: 'one', 2: 'two', 3: 'three'}"
      ]
     },
     "execution_count": 15,
     "metadata": {},
     "output_type": "execute_result"
    }
   ],
   "source": [
    "mydict  =  {1:'one'  ,  2:'two'  ,  3:'three'}  #\n",
    "#dictionary  with  integer  keys\n",
    "mydict"
   ]
  },
  {
   "cell_type": "code",
   "execution_count": 16,
   "id": "07254b8d",
   "metadata": {
    "collapsed": true
   },
   "outputs": [
    {
     "data": {
      "text/plain": [
       "dict"
      ]
     },
     "execution_count": 16,
     "metadata": {},
     "output_type": "execute_result"
    }
   ],
   "source": [
    "type(mydict)"
   ]
  },
  {
   "cell_type": "code",
   "execution_count": 17,
   "id": "872a2b73",
   "metadata": {
    "colab": {
     "base_uri": "https://localhost:8080/"
    },
    "collapsed": true,
    "executionInfo": {
     "elapsed": 6,
     "status": "ok",
     "timestamp": 1682652375407,
     "user": {
      "displayName": "Jitendra Rathod",
      "userId": "08588782662248261812"
     },
     "user_tz": -330
    },
    "id": "872a2b73",
    "outputId": "ba2cfab0-8c15-410d-ea27-dc70ae6322f1"
   },
   "outputs": [
    {
     "data": {
      "text/plain": [
       "{1: 'one', 2: 'two', 3: 'three'}"
      ]
     },
     "execution_count": 17,
     "metadata": {},
     "output_type": "execute_result"
    }
   ],
   "source": [
    "mydict  =  dict({1:'one'  ,  2:'two'  ,  3:'three'})  #  Create  dictionary  using  dict()\n",
    "mydict\n"
   ]
  },
  {
   "cell_type": "code",
   "execution_count": 18,
   "id": "4fe95bcf",
   "metadata": {
    "colab": {
     "base_uri": "https://localhost:8080/"
    },
    "collapsed": true,
    "executionInfo": {
     "elapsed": 12,
     "status": "ok",
     "timestamp": 1682652455843,
     "user": {
      "displayName": "Jitendra Rathod",
      "userId": "08588782662248261812"
     },
     "user_tz": -330
    },
    "id": "4fe95bcf",
    "outputId": "c89c0cb3-08ff-4328-b27a-2a298f232879"
   },
   "outputs": [
    {
     "data": {
      "text/plain": [
       "dict_keys([1, 2, 3])"
      ]
     },
     "execution_count": 18,
     "metadata": {},
     "output_type": "execute_result"
    }
   ],
   "source": [
    "mydict.keys() # Return Dictionary Keys using\n",
    "# keys() method"
   ]
  },
  {
   "cell_type": "code",
   "execution_count": 19,
   "id": "772c3238",
   "metadata": {
    "colab": {
     "base_uri": "https://localhost:8080/"
    },
    "collapsed": true,
    "executionInfo": {
     "elapsed": 699,
     "status": "ok",
     "timestamp": 1682652494207,
     "user": {
      "displayName": "Jitendra Rathod",
      "userId": "08588782662248261812"
     },
     "user_tz": -330
    },
    "id": "772c3238",
    "outputId": "963f5f3b-c319-499c-c336-809b460ea25b"
   },
   "outputs": [
    {
     "data": {
      "text/plain": [
       "dict_values(['one', 'two', 'three'])"
      ]
     },
     "execution_count": 19,
     "metadata": {},
     "output_type": "execute_result"
    }
   ],
   "source": [
    "mydict.values() # Return Dictionary Values using\n",
    "#values() method"
   ]
  },
  {
   "cell_type": "code",
   "execution_count": 20,
   "id": "bf5a01c4",
   "metadata": {
    "colab": {
     "base_uri": "https://localhost:8080/"
    },
    "collapsed": true,
    "executionInfo": {
     "elapsed": 404,
     "status": "ok",
     "timestamp": 1682652507703,
     "user": {
      "displayName": "Jitendra Rathod",
      "userId": "08588782662248261812"
     },
     "user_tz": -330
    },
    "id": "bf5a01c4",
    "outputId": "98409e13-b2c7-4d9f-c5e4-40ab3e410c96"
   },
   "outputs": [
    {
     "data": {
      "text/plain": [
       "dict_items([(1, 'one'), (2, 'two'), (3, 'three')])"
      ]
     },
     "execution_count": 20,
     "metadata": {},
     "output_type": "execute_result"
    }
   ],
   "source": [
    "mydict.items() # Access each key-value pair within a dictionary"
   ]
  },
  {
   "cell_type": "code",
   "execution_count": null,
   "id": "23ad99d6",
   "metadata": {},
   "outputs": [],
   "source": [
    "mydict"
   ]
  },
  {
   "cell_type": "code",
   "execution_count": 21,
   "id": "783810c8",
   "metadata": {
    "colab": {
     "base_uri": "https://localhost:8080/"
    },
    "collapsed": true,
    "executionInfo": {
     "elapsed": 422,
     "status": "ok",
     "timestamp": 1682652596097,
     "user": {
      "displayName": "Jitendra Rathod",
      "userId": "08588782662248261812"
     },
     "user_tz": -330
    },
    "id": "783810c8",
    "outputId": "c73bea83-c80b-48fa-8624-f34ab78b27a1"
   },
   "outputs": [
    {
     "data": {
      "text/plain": [
       "{1: 'one', 2: 'two', 'A': ['Data', 'john', 'Maria']}"
      ]
     },
     "execution_count": 21,
     "metadata": {},
     "output_type": "execute_result"
    }
   ],
   "source": [
    "mydict  =  {1:'one'  ,  2:'two'  ,\n",
    "            'A':['Data'  ,  'john'  ,  'Maria']}\n",
    "#  dictionary  with one value as list\n",
    "mydict"
   ]
  },
  {
   "cell_type": "code",
   "execution_count": 24,
   "id": "db39b7b7",
   "metadata": {
    "collapsed": true
   },
   "outputs": [
    {
     "data": {
      "text/plain": [
       "'Maria'"
      ]
     },
     "execution_count": 24,
     "metadata": {},
     "output_type": "execute_result"
    }
   ],
   "source": [
    "mydict['A'][2]"
   ]
  },
  {
   "cell_type": "code",
   "execution_count": 25,
   "id": "a04b476c",
   "metadata": {
    "id": "a04b476c"
   },
   "outputs": [],
   "source": [
    "d={0:{'one':1,'two':2,'three':3,'four':4},\n",
    "   1:{'city':'bangalore','area':'kudlu'},\n",
    "   'three':{'city':'mumbai','area':'Dharavi'}} # nested dictonary"
   ]
  },
  {
   "cell_type": "code",
   "execution_count": 26,
   "id": "e9a9a464",
   "metadata": {
    "colab": {
     "base_uri": "https://localhost:8080/",
     "height": 36
    },
    "collapsed": true,
    "executionInfo": {
     "elapsed": 5,
     "status": "ok",
     "timestamp": 1682652867000,
     "user": {
      "displayName": "Jitendra Rathod",
      "userId": "08588782662248261812"
     },
     "user_tz": -330
    },
    "id": "e9a9a464",
    "outputId": "093d8e8e-4b2a-4f51-f016-93948cf44b21"
   },
   "outputs": [
    {
     "data": {
      "text/plain": [
       "{0: {'one': 1, 'two': 2, 'three': 3, 'four': 4},\n",
       " 1: {'city': 'bangalore', 'area': 'kudlu'},\n",
       " 'three': {'city': 'mumbai', 'area': 'Dharavi'}}"
      ]
     },
     "execution_count": 26,
     "metadata": {},
     "output_type": "execute_result"
    }
   ],
   "source": [
    "d"
   ]
  },
  {
   "cell_type": "code",
   "execution_count": null,
   "id": "04c82a04",
   "metadata": {
    "id": "04c82a04"
   },
   "outputs": [],
   "source": [
    "## Access the value kudlu, mumbai"
   ]
  },
  {
   "cell_type": "code",
   "execution_count": 30,
   "id": "84d232ca",
   "metadata": {},
   "outputs": [
    {
     "data": {
      "text/plain": [
       "'mumbai'"
      ]
     },
     "execution_count": 30,
     "metadata": {},
     "output_type": "execute_result"
    }
   ],
   "source": [
    "d['three']['city']"
   ]
  },
  {
   "cell_type": "code",
   "execution_count": null,
   "id": "60bc1441",
   "metadata": {},
   "outputs": [],
   "source": [
    "type(a)"
   ]
  },
  {
   "cell_type": "code",
   "execution_count": 31,
   "id": "35fdd65d",
   "metadata": {
    "id": "35fdd65d"
   },
   "outputs": [],
   "source": [
    "v=[0,1,2,3,[8,{5:[67,89,90,{'area':'kudlu','city':'banglore'}]}]]"
   ]
  },
  {
   "cell_type": "code",
   "execution_count": 33,
   "id": "f35b56ea",
   "metadata": {
    "collapsed": true
   },
   "outputs": [
    {
     "data": {
      "text/plain": [
       "list"
      ]
     },
     "execution_count": 33,
     "metadata": {},
     "output_type": "execute_result"
    }
   ],
   "source": [
    "type(v)"
   ]
  },
  {
   "cell_type": "raw",
   "id": "703d8b17",
   "metadata": {},
   "source": [
    "Task: Extract Banglore."
   ]
  },
  {
   "cell_type": "code",
   "execution_count": 38,
   "id": "81f1af80",
   "metadata": {
    "collapsed": true
   },
   "outputs": [
    {
     "data": {
      "text/plain": [
       "'banglore'"
      ]
     },
     "execution_count": 38,
     "metadata": {},
     "output_type": "execute_result"
    }
   ],
   "source": [
    "v[4][1][5][3]['city']"
   ]
  },
  {
   "cell_type": "code",
   "execution_count": null,
   "id": "8417d47e",
   "metadata": {},
   "outputs": [],
   "source": [
    "len(v)"
   ]
  },
  {
   "cell_type": "raw",
   "id": "e154a3de",
   "metadata": {},
   "source": [
    "Task:\n",
    "create a dictionary where keys will be roll_no,name,age,course_details.\n",
    "Assign  multiple values to the keys."
   ]
  },
  {
   "cell_type": "markdown",
   "id": "f5fc5982",
   "metadata": {
    "id": "f5fc5982"
   },
   "source": [
    "## Add, Remove & Change Items"
   ]
  },
  {
   "cell_type": "code",
   "execution_count": 39,
   "id": "4ebb7601",
   "metadata": {
    "colab": {
     "base_uri": "https://localhost:8080/"
    },
    "executionInfo": {
     "elapsed": 416,
     "status": "ok",
     "timestamp": 1682653144537,
     "user": {
      "displayName": "Jitendra Rathod",
      "userId": "08588782662248261812"
     },
     "user_tz": -330
    },
    "id": "4ebb7601",
    "outputId": "1a4fa4ea-67e7-466a-8cea-9046382b5b72"
   },
   "outputs": [
    {
     "data": {
      "text/plain": [
       "{'Name': ['Data', 'Abc'],\n",
       " 'ID': [12345, 12, 11],\n",
       " 'DOB': 1991,\n",
       " 'Address': 'Hilsinki'}"
      ]
     },
     "execution_count": 39,
     "metadata": {},
     "output_type": "execute_result"
    }
   ],
   "source": [
    "mydict1 = {'Name':['Data','Abc'] , 'ID': [12345,12,11] , 'DOB': 1991 ,\n",
    "           'Address' : 'Hilsinki'}\n",
    "mydict1"
   ]
  },
  {
   "cell_type": "code",
   "execution_count": 40,
   "id": "814c516d",
   "metadata": {},
   "outputs": [
    {
     "name": "stdout",
     "output_type": "stream",
     "text": [
      "Abc 11 1991 Hilsinki\n"
     ]
    }
   ],
   "source": [
    "print(mydict1['Name'][1],mydict1['ID'][2],mydict1['DOB'],mydict1['Address'])"
   ]
  },
  {
   "cell_type": "code",
   "execution_count": 41,
   "id": "051b03df",
   "metadata": {},
   "outputs": [],
   "source": [
    "mydict1.update({'key':'value1'}) # adding single item"
   ]
  },
  {
   "cell_type": "code",
   "execution_count": 42,
   "id": "92a4be1d",
   "metadata": {
    "id": "92a4be1d"
   },
   "outputs": [],
   "source": [
    "mydict1.update({'age':12,'std':2})  # adding multiple items"
   ]
  },
  {
   "cell_type": "code",
   "execution_count": 43,
   "id": "d25b40a5",
   "metadata": {},
   "outputs": [
    {
     "data": {
      "text/plain": [
       "{'Name': ['Data', 'Abc'],\n",
       " 'ID': [12345, 12, 11],\n",
       " 'DOB': 1991,\n",
       " 'Address': 'Hilsinki',\n",
       " 'key': 'value1',\n",
       " 'age': 12,\n",
       " 'std': 2}"
      ]
     },
     "execution_count": 43,
     "metadata": {},
     "output_type": "execute_result"
    }
   ],
   "source": [
    "mydict1"
   ]
  },
  {
   "cell_type": "code",
   "execution_count": 44,
   "id": "fd2ad34e",
   "metadata": {
    "colab": {
     "base_uri": "https://localhost:8080/"
    },
    "executionInfo": {
     "elapsed": 416,
     "status": "ok",
     "timestamp": 1682653386472,
     "user": {
      "displayName": "Jitendra Rathod",
      "userId": "08588782662248261812"
     },
     "user_tz": -330
    },
    "id": "fd2ad34e",
    "outputId": "85ced75a-6818-4241-99d3-2a5ded58c425"
   },
   "outputs": [
    {
     "data": {
      "text/plain": [
       "{'Name': ['Data', 'Abc'],\n",
       " 'ID': [12345, 12, 11],\n",
       " 'DOB': 1991,\n",
       " 'Address': 'Hilsinki',\n",
       " 'key': 'value1',\n",
       " 'age': 12,\n",
       " 'std': 2,\n",
       " 'Job': 'Analyst'}"
      ]
     },
     "execution_count": 44,
     "metadata": {},
     "output_type": "execute_result"
    }
   ],
   "source": [
    "mydict1['Job'] = 'Analyst' # Adding items in the dictionary\n",
    "mydict1\n"
   ]
  },
  {
   "cell_type": "code",
   "execution_count": 45,
   "id": "56c9a2ff",
   "metadata": {
    "id": "56c9a2ff"
   },
   "outputs": [],
   "source": [
    "mydict1['ABC']=1"
   ]
  },
  {
   "cell_type": "code",
   "execution_count": 46,
   "id": "0898736f",
   "metadata": {
    "colab": {
     "base_uri": "https://localhost:8080/"
    },
    "executionInfo": {
     "elapsed": 3,
     "status": "ok",
     "timestamp": 1682653169843,
     "user": {
      "displayName": "Jitendra Rathod",
      "userId": "08588782662248261812"
     },
     "user_tz": -330
    },
    "id": "0898736f",
    "outputId": "d0f169a3-63cc-4838-8116-9b8030bebf25"
   },
   "outputs": [
    {
     "data": {
      "text/plain": [
       "{'Name': ['Data', 'Abc'],\n",
       " 'ID': [12345, 12, 11],\n",
       " 'DOB': 1991,\n",
       " 'Address': 'Hilsinki',\n",
       " 'key': 'value1',\n",
       " 'age': 12,\n",
       " 'std': 2,\n",
       " 'Job': 'Analyst',\n",
       " 'ABC': 1}"
      ]
     },
     "execution_count": 46,
     "metadata": {},
     "output_type": "execute_result"
    }
   ],
   "source": [
    "mydict1"
   ]
  },
  {
   "cell_type": "code",
   "execution_count": 48,
   "id": "cac255a6",
   "metadata": {},
   "outputs": [
    {
     "data": {
      "text/plain": [
       "{'Name': ['Data', 'Abc', 'Pqr'],\n",
       " 'ID': [12345, 12, 11],\n",
       " 'DOB': 1991,\n",
       " 'Address': 'Hilsinki',\n",
       " 'key': 'value1',\n",
       " 'age': 12,\n",
       " 'std': 2,\n",
       " 'Job': 'Analyst',\n",
       " 'ABC': 1}"
      ]
     },
     "execution_count": 48,
     "metadata": {},
     "output_type": "execute_result"
    }
   ],
   "source": [
    "mydict1"
   ]
  },
  {
   "cell_type": "code",
   "execution_count": 47,
   "id": "b50b6b4e",
   "metadata": {},
   "outputs": [],
   "source": [
    "mydict1['Name'].append('Pqr')  # to add value into the key using append"
   ]
  },
  {
   "cell_type": "code",
   "execution_count": 49,
   "id": "2427eab0",
   "metadata": {},
   "outputs": [],
   "source": [
    "mydict1['Name'].insert(1,'c')  # to add value into the key using insert"
   ]
  },
  {
   "cell_type": "code",
   "execution_count": 50,
   "id": "a35129dd",
   "metadata": {},
   "outputs": [],
   "source": [
    "mydict1['Name'].extend(['a','b']) #  # to add value into the key using extend"
   ]
  },
  {
   "cell_type": "code",
   "execution_count": 51,
   "id": "682c9f69",
   "metadata": {
    "collapsed": true
   },
   "outputs": [
    {
     "data": {
      "text/plain": [
       "{'Name': ['Data', 'c', 'Abc', 'Pqr', 'a', 'b'],\n",
       " 'ID': [12345, 12, 11],\n",
       " 'DOB': 1991,\n",
       " 'Address': 'Hilsinki',\n",
       " 'key': 'value1',\n",
       " 'age': 12,\n",
       " 'std': 2,\n",
       " 'Job': 'Analyst',\n",
       " 'ABC': 1}"
      ]
     },
     "execution_count": 51,
     "metadata": {},
     "output_type": "execute_result"
    }
   ],
   "source": [
    "mydict1"
   ]
  },
  {
   "cell_type": "code",
   "execution_count": 52,
   "id": "5d5569e1",
   "metadata": {},
   "outputs": [],
   "source": [
    "mydict1['name']=mydict1.pop('Name')  # updating the name of key"
   ]
  },
  {
   "cell_type": "code",
   "execution_count": 53,
   "id": "d6a3110d",
   "metadata": {},
   "outputs": [
    {
     "data": {
      "text/plain": [
       "{'ID': [12345, 12, 11],\n",
       " 'DOB': 1991,\n",
       " 'Address': 'Hilsinki',\n",
       " 'key': 'value1',\n",
       " 'age': 12,\n",
       " 'std': 2,\n",
       " 'Job': 'Analyst',\n",
       " 'ABC': 1,\n",
       " 'name': ['Data', 'c', 'Abc', 'Pqr', 'a', 'b']}"
      ]
     },
     "execution_count": 53,
     "metadata": {},
     "output_type": "execute_result"
    }
   ],
   "source": [
    "mydict1"
   ]
  },
  {
   "cell_type": "code",
   "execution_count": 54,
   "id": "5e848906",
   "metadata": {
    "colab": {
     "base_uri": "https://localhost:8080/"
    },
    "executionInfo": {
     "elapsed": 2,
     "status": "ok",
     "timestamp": 1682653262128,
     "user": {
      "displayName": "Jitendra Rathod",
      "userId": "08588782662248261812"
     },
     "user_tz": -330
    },
    "id": "5e848906",
    "outputId": "32427be7-b29d-474c-fde5-bd9d7d4c4f23"
   },
   "outputs": [
    {
     "data": {
      "text/plain": [
       "{'ID': [12345, 12, 11],\n",
       " 'DOB': 1992,\n",
       " 'Address': 'Hilsinki',\n",
       " 'key': 'value1',\n",
       " 'age': 12,\n",
       " 'std': 2,\n",
       " 'Job': 'Analyst',\n",
       " 'ABC': 1,\n",
       " 'name': ['Data', 'c', 'Abc', 'Pqr', 'a', 'b']}"
      ]
     },
     "execution_count": 54,
     "metadata": {},
     "output_type": "execute_result"
    }
   ],
   "source": [
    "mydict1['DOB'] = 1992\t# Changing Dictionary Items\n",
    "\n",
    "mydict1"
   ]
  },
  {
   "cell_type": "code",
   "execution_count": 55,
   "id": "4e31e87f",
   "metadata": {},
   "outputs": [],
   "source": [
    "del mydict1['ID'][1] ## deleting the single value using index location"
   ]
  },
  {
   "cell_type": "code",
   "execution_count": 56,
   "id": "a3151f1d",
   "metadata": {
    "colab": {
     "base_uri": "https://localhost:8080/"
    },
    "executionInfo": {
     "elapsed": 604,
     "status": "ok",
     "timestamp": 1682653337744,
     "user": {
      "displayName": "Jitendra Rathod",
      "userId": "08588782662248261812"
     },
     "user_tz": -330
    },
    "id": "a3151f1d",
    "outputId": "446d6d35-c689-4c02-b158-6f762263131c"
   },
   "outputs": [
    {
     "data": {
      "text/plain": [
       "{'ID': [12345, 11],\n",
       " 'DOB': 1992,\n",
       " 'Address': 'Hilsinki',\n",
       " 'key': 'value1',\n",
       " 'age': 12,\n",
       " 'std': 2,\n",
       " 'Job': 'Analyst',\n",
       " 'ABC': 1,\n",
       " 'name': ['Data', 'c', 'Abc', 'Pqr', 'a', 'b']}"
      ]
     },
     "execution_count": 56,
     "metadata": {},
     "output_type": "execute_result"
    }
   ],
   "source": [
    "mydict1"
   ]
  },
  {
   "cell_type": "code",
   "execution_count": 57,
   "id": "933e5d2c",
   "metadata": {
    "colab": {
     "base_uri": "https://localhost:8080/"
    },
    "executionInfo": {
     "elapsed": 445,
     "status": "ok",
     "timestamp": 1682653443194,
     "user": {
      "displayName": "Jitendra Rathod",
      "userId": "08588782662248261812"
     },
     "user_tz": -330
    },
    "id": "933e5d2c",
    "outputId": "cd7562f1-c981-45f0-df1d-12ce6027274f"
   },
   "outputs": [
    {
     "data": {
      "text/plain": [
       "{'ID': [11],\n",
       " 'DOB': 1992,\n",
       " 'Address': 'Hilsinki',\n",
       " 'key': 'value1',\n",
       " 'age': 12,\n",
       " 'std': 2,\n",
       " 'Job': 'Analyst',\n",
       " 'ABC': 1,\n",
       " 'name': ['Data', 'c', 'Abc', 'Pqr', 'a', 'b']}"
      ]
     },
     "execution_count": 57,
     "metadata": {},
     "output_type": "execute_result"
    }
   ],
   "source": [
    "mydict1[\"ID\"].pop(0)  #  Removing  items  in  the  dictionary  using  Pop  method\n",
    "mydict1\n"
   ]
  },
  {
   "cell_type": "code",
   "execution_count": 58,
   "id": "b351b8ab",
   "metadata": {},
   "outputs": [
    {
     "data": {
      "text/plain": [
       "'value1'"
      ]
     },
     "execution_count": 58,
     "metadata": {},
     "output_type": "execute_result"
    }
   ],
   "source": [
    "#pop out key value pair from last\n",
    "mydict1.pop(\"key\")"
   ]
  },
  {
   "cell_type": "code",
   "execution_count": 59,
   "id": "b67eea30",
   "metadata": {
    "colab": {
     "base_uri": "https://localhost:8080/"
    },
    "executionInfo": {
     "elapsed": 1203,
     "status": "ok",
     "timestamp": 1682653602419,
     "user": {
      "displayName": "Jitendra Rathod",
      "userId": "08588782662248261812"
     },
     "user_tz": -330
    },
    "id": "b67eea30",
    "outputId": "e812c17e-120e-438b-bcb6-3772f02bda0b"
   },
   "outputs": [
    {
     "data": {
      "text/plain": [
       "{'DOB': 1992,\n",
       " 'Address': 'Hilsinki',\n",
       " 'age': 12,\n",
       " 'std': 2,\n",
       " 'Job': 'Analyst',\n",
       " 'ABC': 1,\n",
       " 'name': ['Data', 'c', 'Abc', 'Pqr', 'a', 'b']}"
      ]
     },
     "execution_count": 59,
     "metadata": {},
     "output_type": "execute_result"
    }
   ],
   "source": [
    "del[mydict1['ID']] # Removing item using del method\n",
    "mydict1"
   ]
  },
  {
   "cell_type": "code",
   "execution_count": 60,
   "id": "1f922949",
   "metadata": {
    "colab": {
     "base_uri": "https://localhost:8080/"
    },
    "executionInfo": {
     "elapsed": 432,
     "status": "ok",
     "timestamp": 1682653639755,
     "user": {
      "displayName": "Jitendra Rathod",
      "userId": "08588782662248261812"
     },
     "user_tz": -330
    },
    "id": "1f922949",
    "outputId": "5e50e10a-43af-4707-8559-3cc9965c6178"
   },
   "outputs": [
    {
     "data": {
      "text/plain": [
       "{}"
      ]
     },
     "execution_count": 60,
     "metadata": {},
     "output_type": "execute_result"
    }
   ],
   "source": [
    "mydict1.clear() # Delete all items of the dictionary using clear method\n",
    "mydict1"
   ]
  },
  {
   "cell_type": "code",
   "execution_count": 61,
   "id": "299c42d9",
   "metadata": {
    "colab": {
     "base_uri": "https://localhost:8080/",
     "height": 189
    },
    "executionInfo": {
     "elapsed": 501,
     "status": "error",
     "timestamp": 1682653667165,
     "user": {
      "displayName": "Jitendra Rathod",
      "userId": "08588782662248261812"
     },
     "user_tz": -330
    },
    "id": "299c42d9",
    "outputId": "bde0c4ab-109a-4a4e-b471-c441574c192f"
   },
   "outputs": [
    {
     "ename": "NameError",
     "evalue": "name 'mydict1' is not defined",
     "output_type": "error",
     "traceback": [
      "\u001b[1;31m---------------------------------------------------------------------------\u001b[0m",
      "\u001b[1;31mNameError\u001b[0m                                 Traceback (most recent call last)",
      "Cell \u001b[1;32mIn[61], line 2\u001b[0m\n\u001b[0;32m      1\u001b[0m \u001b[38;5;28;01mdel\u001b[39;00m mydict1 \u001b[38;5;66;03m# Delete the dictionary object\u001b[39;00m\n\u001b[1;32m----> 2\u001b[0m \u001b[43mmydict1\u001b[49m\n",
      "\u001b[1;31mNameError\u001b[0m: name 'mydict1' is not defined"
     ]
    }
   ],
   "source": [
    "del mydict1 # Delete the dictionary object\n",
    "mydict1"
   ]
  },
  {
   "cell_type": "code",
   "execution_count": null,
   "id": "6465ce76",
   "metadata": {},
   "outputs": [],
   "source": []
  }
 ],
 "metadata": {
  "colab": {
   "provenance": []
  },
  "kernelspec": {
   "display_name": "Python 3 (ipykernel)",
   "language": "python",
   "name": "python3"
  },
  "language_info": {
   "codemirror_mode": {
    "name": "ipython",
    "version": 3
   },
   "file_extension": ".py",
   "mimetype": "text/x-python",
   "name": "python",
   "nbconvert_exporter": "python",
   "pygments_lexer": "ipython3",
   "version": "3.9.13"
  }
 },
 "nbformat": 4,
 "nbformat_minor": 5
}
